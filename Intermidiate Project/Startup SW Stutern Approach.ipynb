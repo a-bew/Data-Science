{
 "cells": [
  {
   "cell_type": "code",
   "execution_count": 1,
   "metadata": {},
   "outputs": [],
   "source": [
    "from pprint import pprint\n",
    "import pandas as pd\n",
    "import numpy as np\n",
    "from sklearn import preprocessing\n",
    "import matplotlib.pyplot as plt \n",
    "\n",
    "plt.rc(\"font\", size=14)\n",
    "from sklearn.linear_model import LogisticRegression\n",
    "from sklearn.model_selection import train_test_split\n",
    "import seaborn as sns\n",
    "sns.set_palette('Set2')\n",
    "%matplotlib inline\n",
    "#sns.set(style=\"white\")\n",
    "#sns.set(style=\"whitegrid\", color_codes=True)"
   ]
  },
  {
   "cell_type": "code",
   "execution_count": 2,
   "metadata": {},
   "outputs": [],
   "source": [
    "def make_plot(the_df, field, title, figsize, rotation=None, fontsize=None):\n",
    "    sns.set_style('whitegrid')\n",
    "    total = len(the_df[field])*1.\n",
    "    plt.figure(figsize=figsize)\n",
    "    ax = sns.countplot(x = field, data = the_df, palette = 'hls' )\n",
    "    plt.title(title)\n",
    "    plt.ylabel('Frequency [%]')\n",
    "    #plt.ylabel('Frequency')\n",
    "    \n",
    "    #if len(ax.patches)< 8:\n",
    "        # Format 250 (60%)\n",
    "    #    for p in ax.patches:\n",
    "    #        ax.annotate('{} ({:.1f}%)'.format(p.get_height(), 100*p.get_height()/total), (p.get_x()+0.1, p.get_height()+5))\n",
    "    #else:\n",
    "        # Format 60%\n",
    "    for p in ax.patches:\n",
    "\n",
    "        ax.annotate('{:.1f}%'.format(100*p.get_height()/total), (p.get_x()+0.1, p.get_height()+5))\n",
    "        \n",
    "    #put 11 ticks (therefore 10 steps), from 0 to the total number of rows in the dataframe\n",
    "    ax.yaxis.set_ticks(np.linspace(0, total, 11))\n",
    "\n",
    "    #adjust the ticklabel to the desired format, without changing the position of the ticks\n",
    "    #_ = ax.set_yticklabels(map('{:.1f}%'.format, 100*ax.yaxis.get_majorticklocs()/total))\n",
    "    ax.set_yticklabels(map('{:.1f}%'.format, 100*ax.yaxis.get_majorticklocs()/total))\n",
    "    \n",
    "    ax.set_xticklabels(ax.get_xticklabels(), rotation=rotation, ha=\"right\", fontsize=fontsize)\n",
    "    plt.tight_layout()\n",
    "    \n",
    "    plt.show()"
   ]
  },
  {
   "cell_type": "code",
   "execution_count": 43,
   "metadata": {},
   "outputs": [],
   "source": [
    "#ax = sns.countplot(x=\"main activity of respondents\", hue=\"What is your gender\", data=graduates_data)\n",
    "\n",
    "def make_twiplot_y(the_df, field, hue, title, figsize, check=None, orient = None, rotation=None, fontsize=None):\n",
    "\n",
    "    sns.set_style('whitegrid')\n",
    "    total = len(the_df[field])*1.\n",
    "    plt.figure(figsize=figsize)\n",
    "    ax = sns.countplot(y=field, hue=hue, data=the_df)\n",
    "\n",
    "    plt.title(title)\n",
    "    plt.xlabel('Frequency [%]')\n",
    "    for p in ax.patches:\n",
    "\n",
    "        ax.annotate('{:.1f}%'.format(100*p.get_height()/total), (p.get_y()+0.1, p.get_height()+5))\n",
    "        \n",
    "    #put 11 ticks (therefore 10 steps), from 0 to the total number of rows in the dataframe\n",
    "    ax.xaxis.set_ticks(np.linspace(0, total, 11))\n",
    "\n",
    "    #adjust the ticklabel to the desired format, without changing the position of the ticks\n",
    "    #_ = ax.set_yticklabels(map('{:.1f}%'.format, 100*ax.yaxis.get_majorticklocs()/total))\n",
    "    ax.set_xticklabels(map('{:.1f}%'.format, 100*ax.xaxis.get_majorticklocs()/total))\n",
    "    \n",
    "    ax.set_yticklabels(ax.get_yticklabels(), rotation=rotation, ha=\"right\", fontsize=fontsize)\n",
    "    plt.tight_layout()\n",
    "    \n",
    "    plt.show()\n",
    "        \n",
    "\n"
   ]
  },
  {
   "cell_type": "code",
   "execution_count": null,
   "metadata": {},
   "outputs": [],
   "source": [
    "def make_twiplot_x(the_df, field, hue, title, figsize, check=None, orient = None, rotation=None, fontsize=None):\n",
    "    sns.set_style('whitegrid')\n",
    "    total = len(the_df[field])*1.\n",
    "    plt.figure(figsize=figsize)\n",
    "    ax = sns.countplot(x=field, hue=hue, data=the_df)\n",
    "    plt.title(title)\n",
    "    plt.ylabel('Frequency [%]')\n",
    "    #plt.ylabel('Frequency')\n",
    "    \n",
    "    #if len(ax.patches)< 8:\n",
    "        # Format 250 (60%)\n",
    "    #    for p in ax.patches:\n",
    "    #        ax.annotate('{} ({:.1f}%)'.format(p.get_height(), 100*p.get_height()/total), (p.get_x()+0.1, p.get_height()+5))\n",
    "    #else:\n",
    "        # Format 60%\n",
    "    for p in ax.patches:\n",
    "\n",
    "        ax.annotate('{:.1f}%'.format(100*p.get_height()/total), (p.get_x()+0.1, p.get_height()+5))\n",
    "        \n",
    "    #put 11 ticks (therefore 10 steps), from 0 to the total number of rows in the dataframe\n",
    "    ax.yaxis.set_ticks(np.linspace(0, total, 11))\n",
    "\n",
    "    #adjust the ticklabel to the desired format, without changing the position of the ticks\n",
    "    #_ = ax.set_yticklabels(map('{:.1f}%'.format, 100*ax.yaxis.get_majorticklocs()/total))\n",
    "    ax.set_yticklabels(map('{:.1f}%'.format, 100*ax.yaxis.get_majorticklocs()/total))\n",
    "    \n",
    "    ax.set_xticklabels(ax.get_xticklabels(), rotation=rotation, ha=\"right\", fontsize=fontsize)\n",
    "    plt.tight_layout()\n",
    "    \n",
    "    plt.show()"
   ]
  },
  {
   "cell_type": "code",
   "execution_count": 4,
   "metadata": {},
   "outputs": [],
   "source": [
    "xlsx = pd.ExcelFile('Nigerian Graduates Destination Survey (2013 -2017) (Responses) - nigerian graduates survey 2018.xlsx')"
   ]
  },
  {
   "cell_type": "code",
   "execution_count": 5,
   "metadata": {},
   "outputs": [],
   "source": [
    "graduates_data = pd.read_excel(xlsx, 'Nigerian Graduates Destination ')"
   ]
  },
  {
   "cell_type": "code",
   "execution_count": 6,
   "metadata": {},
   "outputs": [
    {
     "name": "stdout",
     "output_type": "stream",
     "text": [
      "(5219, 36)\n"
     ]
    }
   ],
   "source": [
    "# Original shape  (rows and columns)\n",
    "print(graduates_data.shape)"
   ]
  },
  {
   "cell_type": "code",
   "execution_count": 7,
   "metadata": {},
   "outputs": [
    {
     "data": {
      "text/html": [
       "<div>\n",
       "<style scoped>\n",
       "    .dataframe tbody tr th:only-of-type {\n",
       "        vertical-align: middle;\n",
       "    }\n",
       "\n",
       "    .dataframe tbody tr th {\n",
       "        vertical-align: top;\n",
       "    }\n",
       "\n",
       "    .dataframe thead th {\n",
       "        text-align: right;\n",
       "    }\n",
       "</style>\n",
       "<table border=\"1\" class=\"dataframe\">\n",
       "  <thead>\n",
       "    <tr style=\"text-align: right;\">\n",
       "      <th></th>\n",
       "      <th>Timestamp</th>\n",
       "      <th>What is your gender</th>\n",
       "      <th>Year of graduation</th>\n",
       "      <th>Title of course studied</th>\n",
       "      <th>Polytechnic/University attended</th>\n",
       "      <th>What is your highest level of education?</th>\n",
       "      <th>What best describes your current status?</th>\n",
       "      <th>How many jobs have you had since graduation including your current one?</th>\n",
       "      <th>Have you completed your NYSC?</th>\n",
       "      <th>If you answered yes/ongoing to the previous question, what year did you (or will you) complete your NYSC?</th>\n",
       "      <th>...</th>\n",
       "      <th>What currency are you currently paid in?</th>\n",
       "      <th>Approximately how many hours a day do you currently work?</th>\n",
       "      <th>As far as you are aware, what was most important to your current employer about your qualification?</th>\n",
       "      <th>How do you find out about your job(s)?</th>\n",
       "      <th>Thinking about your current employment, did you work for your employer before or during your  higher education study?</th>\n",
       "      <th>Which form of transport do you use the most?</th>\n",
       "      <th>Were you able to rent an apartment or buy a car from the salary you got from your first job?</th>\n",
       "      <th>My course of study prepared me well for employment</th>\n",
       "      <th>My course of study prepared me well for further studies</th>\n",
       "      <th>Which of these skills/knowledge did your higher education prepare you for?</th>\n",
       "    </tr>\n",
       "  </thead>\n",
       "  <tbody>\n",
       "    <tr>\n",
       "      <th>4</th>\n",
       "      <td>2018-02-16 13:18:03</td>\n",
       "      <td>Female</td>\n",
       "      <td>2013</td>\n",
       "      <td>Statistics</td>\n",
       "      <td>Ekiti State University</td>\n",
       "      <td>Bachelor's degree</td>\n",
       "      <td>Working full time (paid employment)</td>\n",
       "      <td>3</td>\n",
       "      <td>Yes</td>\n",
       "      <td>2016.0</td>\n",
       "      <td>...</td>\n",
       "      <td>Naira</td>\n",
       "      <td>8.0</td>\n",
       "      <td>IT/SIWES/Internship experience (gained as part...</td>\n",
       "      <td>Personal contacts, including family and friends</td>\n",
       "      <td>No</td>\n",
       "      <td>Commercial Vehicles</td>\n",
       "      <td>No</td>\n",
       "      <td>Agree</td>\n",
       "      <td>Agree</td>\n",
       "      <td>Critical thinking skills</td>\n",
       "    </tr>\n",
       "    <tr>\n",
       "      <th>5</th>\n",
       "      <td>2018-02-16 16:44:18</td>\n",
       "      <td>Male</td>\n",
       "      <td>2015</td>\n",
       "      <td>Electrical &amp; Electronic Engineering</td>\n",
       "      <td>University of Benin</td>\n",
       "      <td>Bachelor's degree</td>\n",
       "      <td>Working full time (paid employment)</td>\n",
       "      <td>2</td>\n",
       "      <td>No</td>\n",
       "      <td>2013.0</td>\n",
       "      <td>...</td>\n",
       "      <td>Naira</td>\n",
       "      <td>10.0</td>\n",
       "      <td>Capacity</td>\n",
       "      <td>Social media/professional networking sites</td>\n",
       "      <td>No</td>\n",
       "      <td>Car</td>\n",
       "      <td>No: From my current job</td>\n",
       "      <td>Agree</td>\n",
       "      <td>Agree</td>\n",
       "      <td>Ability to work with others, Knowledge of the ...</td>\n",
       "    </tr>\n",
       "    <tr>\n",
       "      <th>6</th>\n",
       "      <td>2018-02-19 07:24:05</td>\n",
       "      <td>Male</td>\n",
       "      <td>2013</td>\n",
       "      <td>Economics</td>\n",
       "      <td>Bowen University, Iwo</td>\n",
       "      <td>Higher National Diploma (HND)</td>\n",
       "      <td>Working full time (paid employment)</td>\n",
       "      <td>4</td>\n",
       "      <td>Yes</td>\n",
       "      <td>2016.0</td>\n",
       "      <td>...</td>\n",
       "      <td>Naira</td>\n",
       "      <td>8.0</td>\n",
       "      <td>Don't know</td>\n",
       "      <td>University/polytechnic (e.g. Careers Service, ...</td>\n",
       "      <td>Yes: during my higher education study</td>\n",
       "      <td>Commercial Vehicles</td>\n",
       "      <td>No: From my current job</td>\n",
       "      <td>Strongly Disagree</td>\n",
       "      <td>Strongly Disagree</td>\n",
       "      <td>Critical thinking skills, Ability to work with...</td>\n",
       "    </tr>\n",
       "    <tr>\n",
       "      <th>8</th>\n",
       "      <td>2018-02-19 08:53:52</td>\n",
       "      <td>Female</td>\n",
       "      <td>2017</td>\n",
       "      <td>Industrial Relations and Personnel Management</td>\n",
       "      <td>Covenant University Ota</td>\n",
       "      <td>Bachelor's degree</td>\n",
       "      <td>Youth Corper (NYSC)</td>\n",
       "      <td>2</td>\n",
       "      <td>Ongoing</td>\n",
       "      <td>2018.0</td>\n",
       "      <td>...</td>\n",
       "      <td>Naira</td>\n",
       "      <td>9.0</td>\n",
       "      <td>The subject(s) I studied</td>\n",
       "      <td>Personal contacts, including family and friends</td>\n",
       "      <td>No</td>\n",
       "      <td>Keke Marwa/Napep/Tricycle</td>\n",
       "      <td>No</td>\n",
       "      <td>Agree</td>\n",
       "      <td>Agree</td>\n",
       "      <td>Ability to work with others</td>\n",
       "    </tr>\n",
       "    <tr>\n",
       "      <th>10</th>\n",
       "      <td>2018-02-19 09:19:58</td>\n",
       "      <td>Male</td>\n",
       "      <td>2015</td>\n",
       "      <td>Economics</td>\n",
       "      <td>University of Ibadan</td>\n",
       "      <td>Bachelor's degree</td>\n",
       "      <td>Due to start a job in the next month/developin...</td>\n",
       "      <td>3</td>\n",
       "      <td>Yes</td>\n",
       "      <td>2016.0</td>\n",
       "      <td>...</td>\n",
       "      <td>Naira</td>\n",
       "      <td>9.0</td>\n",
       "      <td>No one thing was important</td>\n",
       "      <td>Personal contacts, including family and friends</td>\n",
       "      <td>No</td>\n",
       "      <td>Commercial Vehicles</td>\n",
       "      <td>No</td>\n",
       "      <td>Strongly Disagree</td>\n",
       "      <td>Strongly Disagree</td>\n",
       "      <td>Critical thinking skills, Written communicatio...</td>\n",
       "    </tr>\n",
       "  </tbody>\n",
       "</table>\n",
       "<p>5 rows × 36 columns</p>\n",
       "</div>"
      ],
      "text/plain": [
       "             Timestamp What is your gender  Year of graduation  \\\n",
       "4  2018-02-16 13:18:03              Female                2013   \n",
       "5  2018-02-16 16:44:18                Male                2015   \n",
       "6  2018-02-19 07:24:05                Male                2013   \n",
       "8  2018-02-19 08:53:52              Female                2017   \n",
       "10 2018-02-19 09:19:58                Male                2015   \n",
       "\n",
       "                          Title of course studied  \\\n",
       "4                                      Statistics   \n",
       "5             Electrical & Electronic Engineering   \n",
       "6                                       Economics   \n",
       "8   Industrial Relations and Personnel Management   \n",
       "10                                      Economics   \n",
       "\n",
       "   Polytechnic/University attended What is your highest level of education?  \\\n",
       "4           Ekiti State University                        Bachelor's degree   \n",
       "5              University of Benin                        Bachelor's degree   \n",
       "6            Bowen University, Iwo            Higher National Diploma (HND)   \n",
       "8          Covenant University Ota                        Bachelor's degree   \n",
       "10            University of Ibadan                        Bachelor's degree   \n",
       "\n",
       "             What best describes your current status?  \\\n",
       "4                 Working full time (paid employment)   \n",
       "5                 Working full time (paid employment)   \n",
       "6                 Working full time (paid employment)   \n",
       "8                                 Youth Corper (NYSC)   \n",
       "10  Due to start a job in the next month/developin...   \n",
       "\n",
       "    How many jobs have you had since graduation including your current one?  \\\n",
       "4                                                   3                         \n",
       "5                                                   2                         \n",
       "6                                                   4                         \n",
       "8                                                   2                         \n",
       "10                                                  3                         \n",
       "\n",
       "   Have you completed your NYSC?  \\\n",
       "4                            Yes   \n",
       "5                             No   \n",
       "6                            Yes   \n",
       "8                        Ongoing   \n",
       "10                           Yes   \n",
       "\n",
       "    If you answered yes/ongoing to the previous question, what year did you (or will you) complete your NYSC?  \\\n",
       "4                                              2016.0                                                           \n",
       "5                                              2013.0                                                           \n",
       "6                                              2016.0                                                           \n",
       "8                                              2018.0                                                           \n",
       "10                                             2016.0                                                           \n",
       "\n",
       "                                      ...                                      \\\n",
       "4                                     ...                                       \n",
       "5                                     ...                                       \n",
       "6                                     ...                                       \n",
       "8                                     ...                                       \n",
       "10                                    ...                                       \n",
       "\n",
       "   What currency are you currently paid in?  \\\n",
       "4                                     Naira   \n",
       "5                                     Naira   \n",
       "6                                     Naira   \n",
       "8                                     Naira   \n",
       "10                                    Naira   \n",
       "\n",
       "   Approximately how many hours a day do you currently work?  \\\n",
       "4                                                 8.0          \n",
       "5                                                10.0          \n",
       "6                                                 8.0          \n",
       "8                                                 9.0          \n",
       "10                                                9.0          \n",
       "\n",
       "   As far as you are aware, what was most important to your current employer about your qualification?  \\\n",
       "4   IT/SIWES/Internship experience (gained as part...                                                    \n",
       "5                                            Capacity                                                    \n",
       "6                                          Don't know                                                    \n",
       "8                            The subject(s) I studied                                                    \n",
       "10                         No one thing was important                                                    \n",
       "\n",
       "               How do you find out about your job(s)?  \\\n",
       "4     Personal contacts, including family and friends   \n",
       "5          Social media/professional networking sites   \n",
       "6   University/polytechnic (e.g. Careers Service, ...   \n",
       "8     Personal contacts, including family and friends   \n",
       "10    Personal contacts, including family and friends   \n",
       "\n",
       "   Thinking about your current employment, did you work for your employer before or during your  higher education study?  \\\n",
       "4                                                  No                                                                      \n",
       "5                                                  No                                                                      \n",
       "6               Yes: during my higher education study                                                                      \n",
       "8                                                  No                                                                      \n",
       "10                                                 No                                                                      \n",
       "\n",
       "   Which form of transport do you use the most?  \\\n",
       "4                           Commercial Vehicles   \n",
       "5                                           Car   \n",
       "6                           Commercial Vehicles   \n",
       "8                     Keke Marwa/Napep/Tricycle   \n",
       "10                          Commercial Vehicles   \n",
       "\n",
       "   Were you able to rent an apartment or buy a car from the salary you got from your first job?  \\\n",
       "4                                                  No                                             \n",
       "5                             No: From my current job                                             \n",
       "6                             No: From my current job                                             \n",
       "8                                                  No                                             \n",
       "10                                                 No                                             \n",
       "\n",
       "   My course of study prepared me well for employment  \\\n",
       "4                                               Agree   \n",
       "5                                               Agree   \n",
       "6                                   Strongly Disagree   \n",
       "8                                               Agree   \n",
       "10                                  Strongly Disagree   \n",
       "\n",
       "   My course of study prepared me well for further studies  \\\n",
       "4                                               Agree        \n",
       "5                                               Agree        \n",
       "6                                   Strongly Disagree        \n",
       "8                                               Agree        \n",
       "10                                  Strongly Disagree        \n",
       "\n",
       "   Which of these skills/knowledge did your higher education prepare you for?  \n",
       "4                            Critical thinking skills                          \n",
       "5   Ability to work with others, Knowledge of the ...                          \n",
       "6   Critical thinking skills, Ability to work with...                          \n",
       "8                         Ability to work with others                          \n",
       "10  Critical thinking skills, Written communicatio...                          \n",
       "\n",
       "[5 rows x 36 columns]"
      ]
     },
     "execution_count": 7,
     "metadata": {},
     "output_type": "execute_result"
    }
   ],
   "source": [
    "# Remove rows with missing\n",
    "graduates_data = graduates_data.dropna()\n",
    "\n",
    "# Show data - head\n",
    "graduates_data.head()"
   ]
  },
  {
   "cell_type": "code",
   "execution_count": 8,
   "metadata": {},
   "outputs": [
    {
     "data": {
      "image/png": "[encoded data removed]",
      "text/plain": [
       "<Figure size 576x288 with 1 Axes>"
      ]
     },
     "metadata": {},
     "output_type": "display_data"
    }
   ],
   "source": [
    "make_plot(the_df=graduates_data, field=\"What is your gender\", title=\"What is your gender\", figsize=(8,4), rotation=None, fontsize=None)\n"
   ]
  },
  {
   "cell_type": "code",
   "execution_count": 9,
   "metadata": {},
   "outputs": [
    {
     "data": {
      "text/plain": [
       "Working full time (paid employment)                                                           593\n",
       "Youth Corper (NYSC)                                                                           164\n",
       "Self-employed/freelance/entrepreneur                                                          151\n",
       "Unemployed                                                                                    122\n",
       "Voluntary or other unpaid work or on an internship                                             80\n",
       "Engaged in full-time further study, training or research                                       38\n",
       "Due to start a job in the next month/developing a professional portfolio/creative practice     37\n",
       "Taking time out to prepare for further studies, GMAT, professional exams                       21\n",
       "Doing something else (e.g. looking after home or family)                                       16\n",
       "Engaged in part-time further study, training or research                                        7\n",
       "Name: What best describes your current status?, dtype: int64"
      ]
     },
     "execution_count": 9,
     "metadata": {},
     "output_type": "execute_result"
    }
   ],
   "source": [
    "graduates_data['What best describes your current status?'].value_counts()"
   ]
  },
  {
   "cell_type": "code",
   "execution_count": 10,
   "metadata": {},
   "outputs": [
    {
     "data": {
      "text/plain": [
       "['Preparing for further study',\n",
       " 'Engaged in further study',\n",
       " 'Unemployed',\n",
       " 'Working full time']"
      ]
     },
     "execution_count": 10,
     "metadata": {},
     "output_type": "execute_result"
    }
   ],
   "source": [
    "def label_race(row):\n",
    "\n",
    "    if row['What best describes your current status?']=='Working full time (paid employment)':\n",
    "        return \"Working full time\"\n",
    "    elif row['What best describes your current status?']=='Youth Corper (NYSC)':\n",
    "        return \"Working full time\"\n",
    "    elif row['What best describes your current status?']=='Self-employed/freelance/entrepreneur':\n",
    "        return \"Working full time\"\n",
    "    elif row['What best describes your current status?']=='Unemployed':\n",
    "        return \"Unemployed\"\n",
    "\n",
    "    elif row['What best describes your current status?']=='Engaged in full-time further study, training or research':\n",
    "        return \"Engaged in further study\"\n",
    "    \n",
    "    elif row['What best describes your current status?']=='Engaged in part-time further study, training or research':\n",
    "        return \"Engaged in further study\"\n",
    "    elif row['What best describes your current status?']=='Taking time out to prepare for further studies, GMAT, professional exams':\n",
    "        return \"Preparing for further study\"\n",
    "    else:\n",
    "        return np.nan\n",
    "graduates_data[\"main activity of respondents\"] = graduates_data.apply (lambda row: label_race (row),axis=1)\n",
    "main_activity_labels = list(set(graduates_data[\"main activity of respondents\"].dropna().values))[::-1]\n",
    "main_activity_labels\n"
   ]
  },
  {
   "cell_type": "code",
   "execution_count": 52,
   "metadata": {},
   "outputs": [],
   "source": [
    "gender_label = list(set(graduates_data[\"What is your gender\"].values))"
   ]
  },
  {
   "cell_type": "code",
   "execution_count": 56,
   "metadata": {},
   "outputs": [
    {
     "name": "stdout",
     "output_type": "stream",
     "text": [
      "main activity of respondents  What is your gender\n",
      "Engaged in further study      Female                  23\n",
      "                              Male                    22\n",
      "Preparing for further study   Female                  11\n",
      "                              Male                    10\n",
      "Unemployed                    Female                  61\n",
      "                              Male                    61\n",
      "Working full time             Female                 437\n",
      "                              Male                   471\n",
      "Name: What is your gender, dtype: int64\n"
     ]
    },
    {
     "data": {
      "text/plain": [
       "<matplotlib.axes._subplots.AxesSubplot at 0xe713610>"
      ]
     },
     "execution_count": 56,
     "metadata": {},
     "output_type": "execute_result"
    },
    {
     "data": {
      "image/png": "[encoded data removed]",
      "text/plain": [
       "<Figure size 432x288 with 1 Axes>"
      ]
     },
     "metadata": {},
     "output_type": "display_data"
    }
   ],
   "source": [
    "print(graduates_data.groupby(['main activity of respondents','What is your gender'])[\"What is your gender\"].count())\n",
    "arr = np.array(graduates_data.groupby(['main activity of respondents','What is your gender'])[\"What is your gender\"].count().values.tolist())\n",
    "gdata = arr.reshape((4,2))\n",
    "index = main_activity_labels\n",
    "columns = pd.Index(gender_label, name=\"Gender\")\n",
    "pd.DataFrame(gdata, index=index,columns=columns).plot.barh(stacked=True, alpha=0.5)"
   ]
  },
  {
   "cell_type": "code",
   "execution_count": null,
   "metadata": {},
   "outputs": [],
   "source": []
  },
  {
   "cell_type": "code",
   "execution_count": 66,
   "metadata": {},
   "outputs": [
    {
     "data": {
      "text/plain": [
       "['Higher National Diploma (HND)',\n",
       " 'Ordinary National Diploma (OND)',\n",
       " 'MBA degree',\n",
       " \"Master's degree\",\n",
       " \"Bachelor's degree\",\n",
       " 'PhDs/Doctorate Degree']"
      ]
     },
     "execution_count": 66,
     "metadata": {},
     "output_type": "execute_result"
    }
   ],
   "source": [
    "education_level = list(set(graduates_data[\"What is your highest level of education?\"].values))\n",
    "education_level"
   ]
  },
  {
   "cell_type": "code",
   "execution_count": 129,
   "metadata": {},
   "outputs": [],
   "source": [
    "def hbar_cross(the_df, title):\n",
    "\n",
    "    sns.set_style('whitegrid')\n",
    "    total = len(the_df[main_activity_labels])*1\n",
    "    plt.figure(figsize=(12,12))\n",
    "\n",
    "    axx = the_df.plot.bar(stacked=True, alpha=0.5)\n",
    "\n",
    "\n",
    "    plt.title(title)\n",
    "    plt.xlabel('Frequency [%]')\n",
    "    for p in axx.patches:\n",
    "        axx.annotate('{:.1f}%'.format(100*p.get_height()/total), (p.get_y()+0.1, p.get_height()+5))\n",
    "\n",
    "    #put 11 ticks (therefore 10 steps), from 0 to the total number of rows in the dataframe\n",
    "    ax.xaxis.set_ticks(np.linspace(0, total, 11))\n",
    "\n",
    "    #adjust the ticklabel to the desired format, without changing the position of the ticks\n",
    "    #_ = ax.set_yticklabels(map('{:.1f}%'.format, 100*ax.yaxis.get_majorticklocs()/total))\n",
    "    axx.set_xticklabels(map('{:.1f}%'.format, 0.1*axx.xaxis.get_majorticklocs()/total))\n",
    "    print(axx.xaxis.get_majorticklocs())\n",
    "    axx.set_yticklabels(axx.get_yticklabels(), rotation=None, ha=\"right\", fontsize=None)\n",
    "    plt.tight_layout()\n",
    "\n",
    "    plt.show()\n"
   ]
  },
  {
   "cell_type": "code",
   "execution_count": 130,
   "metadata": {},
   "outputs": [
    {
     "name": "stdout",
     "output_type": "stream",
     "text": [
      "What is your highest level of education?  main activity of respondents\n",
      "Bachelor's degree                         Engaged in further study         29\n",
      "                                          Preparing for further study      19\n",
      "                                          Unemployed                       99\n",
      "                                          Working full time               775\n",
      "Higher National Diploma (HND)             Preparing for further study       1\n",
      "                                          Unemployed                       11\n",
      "                                          Working full time                50\n",
      "MBA degree                                Working full time                 6\n",
      "Master's degree                           Engaged in further study         14\n",
      "                                          Unemployed                       11\n",
      "                                          Working full time                74\n",
      "Ordinary National Diploma (OND)           Engaged in further study          2\n",
      "                                          Unemployed                        1\n",
      "                                          Working full time                 2\n",
      "PhDs/Doctorate Degree                     Preparing for further study       1\n",
      "                                          Working full time                 1\n",
      "Name: main activity of respondents, dtype: int64\n",
      "[[775, 99, 19, 29], [50, 11, 1, nan], [6, nan, nan, nan], [74, 11, nan, 14], [2, 1, nan, 2], [1, nan, nan, 1]]\n",
      "[0 1 2 3 4 5]\n"
     ]
    },
    {
     "name": "stderr",
     "output_type": "stream",
     "text": [
      "C:\\Users\\user\\Anaconda3\\envs\\neuralnets\\lib\\site-packages\\matplotlib\\tight_layout.py:177: UserWarning: The left and right margins cannot be made large enough to accommodate all axes decorations. \n",
      "  warnings.warn('The left and right margins cannot be made large '\n"
     ]
    },
    {
     "data": {
      "text/plain": [
       "<Figure size 864x864 with 0 Axes>"
      ]
     },
     "metadata": {},
     "output_type": "display_data"
    },
    {
     "data": {
      "image/png": "[encoded data removed]",
      "text/plain": [
       "<Figure size 432x288 with 1 Axes>"
      ]
     },
     "metadata": {},
     "output_type": "display_data"
    },
    {
     "data": {
      "text/plain": [
       "6"
      ]
     },
     "execution_count": 130,
     "metadata": {},
     "output_type": "execute_result"
    }
   ],
   "source": [
    " print(graduates_data.groupby([\"What is your highest level of education?\", \"main activity of respondents\"])[\"main activity of respondents\"].count())\n",
    "#arr_activity = np.array(graduates_data.groupby([\"What is your highest level of education?\", \"main activity of respondents\"])[\"main activity of respondents\"].count().values.tolist())\n",
    "#gdata_activity ={ education_level[0]: graduates_data.groupby([\"What is your highest level of education?\", \"main activity of respondents\"])[\"main activity of respondents\"].count().values.tolist()[0:3],\n",
    "#                education_level[1]: graduates_data.groupby([\"What is your highest level of education?\", \"main activity of respondents\"])[\"main activity of respondents\"].count().values.tolist()[4:6],\n",
    "#                education_level[2]: graduates_data.groupby([\"What is your highest level of education?\", \"main activity of respondents\"])[\"main activity of respondents\"].count().values.tolist()[7],\n",
    "#                education_level[3]: graduates_data.groupby([\"What is your highest level of education?\", \"main activity of respondents\"])[\"main activity of respondents\"].count().values.tolist()[8:10],\n",
    "#                education_level[4]: graduates_data.groupby([\"What is your highest level of education?\", \"main activity of respondents\"])[\"main activity of respondents\"].count().values.tolist()[11:13],\n",
    "#                education_level[5]: graduates_data.groupby([\"What is your highest level of education?\", \"main activity of respondents\"])[\"main activity of respondents\"].count().values.tolist()[14:15]}\n",
    "#col_len = len(education_level)\n",
    "#row_len = len(main_activity_labels)\n",
    "gdata_activity = [[775,99,19,29], [50,11,1, np.nan], [6, np.nan, np.nan, np.nan], [74, 11, np.nan, 14], [2,1,np.nan, 2], [1, np.nan, np.nan, 1]]\n",
    "\n",
    "print(gdata_activity)\n",
    "#gdata_activity = arr_activity.reshape((col_len,row_len))  #4, 2\n",
    "index_activity = education_level\n",
    "columns_activity = pd.Index(main_activity_labels[::-1], name=\"Main activity\")\n",
    "gdata_a = pd.DataFrame(gdata_activity, index=index_activity,columns=columns_activity)\n",
    "\n",
    "hbar_cross(the_df = gdata_a, title = \"Main activity of respondence by level of award complete\")\n",
    "\n",
    "len(gdata_a[main_activity_labels])"
   ]
  },
  {
   "cell_type": "code",
   "execution_count": 126,
   "metadata": {},
   "outputs": [
    {
     "data": {
      "image/png": "[encoded data removed]",
      "text/plain": [
       "<Figure size 432x288 with 1 Axes>"
      ]
     },
     "metadata": {},
     "output_type": "display_data"
    }
   ],
   "source": [
    "\n",
    "#make_plot(the_df=graduates_data, field=\"main activity of respondents\", title=\"main activity of respondents\", figsize=(8,4), rotation=40, fontsize=None)\n",
    "\n",
    "# pie chart of workers\n",
    "labels = main_activity_labels\n",
    "sizes = [graduates_data['main activity of respondents'].value_counts()[0],\n",
    "         graduates_data['main activity of respondents'].value_counts()[1],\n",
    "         graduates_data['main activity of respondents'].value_counts()[2],\n",
    "         graduates_data['main activity of respondents'].value_counts()[3]\n",
    "        ]\n",
    "# print(sizes) # adds up to 1433, which is the total number of participants\n",
    "fig1, ax1 = plt.subplots()\n",
    "ax1.pie(sizes, labels=labels, autopct='%1.1f%%', shadow=True)\n",
    "ax1.axis('equal')\n",
    "plt.show()"
   ]
  },
  {
   "cell_type": "code",
   "execution_count": 20,
   "metadata": {},
   "outputs": [],
   "source": [
    "#sns.countplot(y=\"main activity of respondents\", hue=\"What is your gender\", orient=\"v\",data=graduates_data)\n",
    "#sns.catplot(y=\"deck\", hue=\"class\", kind=\"count\", palette=\"pastel\", edgecolor=\".6\", data=titanic);"
   ]
  },
  {
   "cell_type": "code",
   "execution_count": 42,
   "metadata": {},
   "outputs": [
    {
     "data": {
      "image/png": "[encoded data removed]",
      "text/plain": [
       "<Figure size 648x576 with 1 Axes>"
      ]
     },
     "metadata": {},
     "output_type": "display_data"
    }
   ],
   "source": [
    "make_twiplot_y(the_df=graduates_data, field=\"main activity of respondents\", hue=\"What is your gender\", title=\"Main activity of respondence by gender\", figsize=(9, 8), orient = \"v\", rotation=None, fontsize=None)\n",
    "\n",
    "#ax = sns.countplot(x=\"main activity of respondents\", hue=\"What is your gender\", data=graduates_data)\n"
   ]
  },
  {
   "cell_type": "code",
   "execution_count": null,
   "metadata": {},
   "outputs": [],
   "source": []
  },
  {
   "cell_type": "code",
   "execution_count": null,
   "metadata": {},
   "outputs": [],
   "source": []
  }
 ],
 "metadata": {
  "kernelspec": {
   "display_name": "Python 3",
   "language": "python",
   "name": "python3"
  },
  "language_info": {
   "codemirror_mode": {
    "name": "ipython",
    "version": 3
   },
   "file_extension": ".py",
   "mimetype": "text/x-python",
   "name": "python",
   "nbconvert_exporter": "python",
   "pygments_lexer": "ipython3",
   "version": "3.6.5"
  }
 },
 "nbformat": 4,
 "nbformat_minor": 2
}
