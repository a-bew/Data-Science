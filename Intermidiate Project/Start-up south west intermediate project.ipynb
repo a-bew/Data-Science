{
 "cells": [
  {
   "cell_type": "markdown",
   "metadata": {},
   "source": [
    "# Startup South-west Intermediate Project"
   ]
  },
  {
   "cell_type": "code",
   "execution_count": 1,
   "metadata": {},
   "outputs": [],
   "source": [
    "import pandas as pd\n",
    "import numpy as np"
   ]
  },
  {
   "cell_type": "code",
   "execution_count": 2,
   "metadata": {},
   "outputs": [],
   "source": [
    "xlsx = pd.ExcelFile('Nigerian Graduates Destination Survey (2013 -2017) (Responses) - nigerian graduates survey 2018.xlsx')"
   ]
  },
  {
   "cell_type": "code",
   "execution_count": 3,
   "metadata": {},
   "outputs": [],
   "source": [
    "graduates_data = pd.read_excel(xlsx, 'Nigerian Graduates Destination ')"
   ]
  },
  {
   "cell_type": "code",
   "execution_count": 4,
   "metadata": {},
   "outputs": [
    {
     "name": "stdout",
     "output_type": "stream",
     "text": [
      "(5219, 36)\n"
     ]
    }
   ],
   "source": [
    "# Original shape  (rows and columns)\n",
    "print(graduates_data.shape)"
   ]
  },
  {
   "cell_type": "code",
   "execution_count": 5,
   "metadata": {},
   "outputs": [
    {
     "data": {
      "text/html": [
       "<div>\n",
       "<style scoped>\n",
       "    .dataframe tbody tr th:only-of-type {\n",
       "        vertical-align: middle;\n",
       "    }\n",
       "\n",
       "    .dataframe tbody tr th {\n",
       "        vertical-align: top;\n",
       "    }\n",
       "\n",
       "    .dataframe thead th {\n",
       "        text-align: right;\n",
       "    }\n",
       "</style>\n",
       "<table border=\"1\" class=\"dataframe\">\n",
       "  <thead>\n",
       "    <tr style=\"text-align: right;\">\n",
       "      <th></th>\n",
       "      <th>Timestamp</th>\n",
       "      <th>What is your gender</th>\n",
       "      <th>Year of graduation</th>\n",
       "      <th>Title of course studied</th>\n",
       "      <th>Polytechnic/University attended</th>\n",
       "      <th>What is your highest level of education?</th>\n",
       "      <th>What best describes your current status?</th>\n",
       "      <th>How many jobs have you had since graduation including your current one?</th>\n",
       "      <th>Have you completed your NYSC?</th>\n",
       "      <th>If you answered yes/ongoing to the previous question, what year did you (or will you) complete your NYSC?</th>\n",
       "      <th>...</th>\n",
       "      <th>What currency are you currently paid in?</th>\n",
       "      <th>Approximately how many hours a day do you currently work?</th>\n",
       "      <th>As far as you are aware, what was most important to your current employer about your qualification?</th>\n",
       "      <th>How do you find out about your job(s)?</th>\n",
       "      <th>Thinking about your current employment, did you work for your employer before or during your  higher education study?</th>\n",
       "      <th>Which form of transport do you use the most?</th>\n",
       "      <th>Were you able to rent an apartment or buy a car from the salary you got from your first job?</th>\n",
       "      <th>My course of study prepared me well for employment</th>\n",
       "      <th>My course of study prepared me well for further studies</th>\n",
       "      <th>Which of these skills/knowledge did your higher education prepare you for?</th>\n",
       "    </tr>\n",
       "  </thead>\n",
       "  <tbody>\n",
       "    <tr>\n",
       "      <th>4</th>\n",
       "      <td>2018-02-16 13:18:03</td>\n",
       "      <td>Female</td>\n",
       "      <td>2013</td>\n",
       "      <td>Statistics</td>\n",
       "      <td>Ekiti State University</td>\n",
       "      <td>Bachelor's degree</td>\n",
       "      <td>Working full time (paid employment)</td>\n",
       "      <td>3</td>\n",
       "      <td>Yes</td>\n",
       "      <td>2016.0</td>\n",
       "      <td>...</td>\n",
       "      <td>Naira</td>\n",
       "      <td>8.0</td>\n",
       "      <td>IT/SIWES/Internship experience (gained as part...</td>\n",
       "      <td>Personal contacts, including family and friends</td>\n",
       "      <td>No</td>\n",
       "      <td>Commercial Vehicles</td>\n",
       "      <td>No</td>\n",
       "      <td>Agree</td>\n",
       "      <td>Agree</td>\n",
       "      <td>Critical thinking skills</td>\n",
       "    </tr>\n",
       "    <tr>\n",
       "      <th>5</th>\n",
       "      <td>2018-02-16 16:44:18</td>\n",
       "      <td>Male</td>\n",
       "      <td>2015</td>\n",
       "      <td>Electrical &amp; Electronic Engineering</td>\n",
       "      <td>University of Benin</td>\n",
       "      <td>Bachelor's degree</td>\n",
       "      <td>Working full time (paid employment)</td>\n",
       "      <td>2</td>\n",
       "      <td>No</td>\n",
       "      <td>2013.0</td>\n",
       "      <td>...</td>\n",
       "      <td>Naira</td>\n",
       "      <td>10.0</td>\n",
       "      <td>Capacity</td>\n",
       "      <td>Social media/professional networking sites</td>\n",
       "      <td>No</td>\n",
       "      <td>Car</td>\n",
       "      <td>No: From my current job</td>\n",
       "      <td>Agree</td>\n",
       "      <td>Agree</td>\n",
       "      <td>Ability to work with others, Knowledge of the ...</td>\n",
       "    </tr>\n",
       "    <tr>\n",
       "      <th>6</th>\n",
       "      <td>2018-02-19 07:24:05</td>\n",
       "      <td>Male</td>\n",
       "      <td>2013</td>\n",
       "      <td>Economics</td>\n",
       "      <td>Bowen University, Iwo</td>\n",
       "      <td>Higher National Diploma (HND)</td>\n",
       "      <td>Working full time (paid employment)</td>\n",
       "      <td>4</td>\n",
       "      <td>Yes</td>\n",
       "      <td>2016.0</td>\n",
       "      <td>...</td>\n",
       "      <td>Naira</td>\n",
       "      <td>8.0</td>\n",
       "      <td>Don't know</td>\n",
       "      <td>University/polytechnic (e.g. Careers Service, ...</td>\n",
       "      <td>Yes: during my higher education study</td>\n",
       "      <td>Commercial Vehicles</td>\n",
       "      <td>No: From my current job</td>\n",
       "      <td>Strongly Disagree</td>\n",
       "      <td>Strongly Disagree</td>\n",
       "      <td>Critical thinking skills, Ability to work with...</td>\n",
       "    </tr>\n",
       "    <tr>\n",
       "      <th>8</th>\n",
       "      <td>2018-02-19 08:53:52</td>\n",
       "      <td>Female</td>\n",
       "      <td>2017</td>\n",
       "      <td>Industrial Relations and Personnel Management</td>\n",
       "      <td>Covenant University Ota</td>\n",
       "      <td>Bachelor's degree</td>\n",
       "      <td>Youth Corper (NYSC)</td>\n",
       "      <td>2</td>\n",
       "      <td>Ongoing</td>\n",
       "      <td>2018.0</td>\n",
       "      <td>...</td>\n",
       "      <td>Naira</td>\n",
       "      <td>9.0</td>\n",
       "      <td>The subject(s) I studied</td>\n",
       "      <td>Personal contacts, including family and friends</td>\n",
       "      <td>No</td>\n",
       "      <td>Keke Marwa/Napep/Tricycle</td>\n",
       "      <td>No</td>\n",
       "      <td>Agree</td>\n",
       "      <td>Agree</td>\n",
       "      <td>Ability to work with others</td>\n",
       "    </tr>\n",
       "    <tr>\n",
       "      <th>10</th>\n",
       "      <td>2018-02-19 09:19:58</td>\n",
       "      <td>Male</td>\n",
       "      <td>2015</td>\n",
       "      <td>Economics</td>\n",
       "      <td>University of Ibadan</td>\n",
       "      <td>Bachelor's degree</td>\n",
       "      <td>Due to start a job in the next month/developin...</td>\n",
       "      <td>3</td>\n",
       "      <td>Yes</td>\n",
       "      <td>2016.0</td>\n",
       "      <td>...</td>\n",
       "      <td>Naira</td>\n",
       "      <td>9.0</td>\n",
       "      <td>No one thing was important</td>\n",
       "      <td>Personal contacts, including family and friends</td>\n",
       "      <td>No</td>\n",
       "      <td>Commercial Vehicles</td>\n",
       "      <td>No</td>\n",
       "      <td>Strongly Disagree</td>\n",
       "      <td>Strongly Disagree</td>\n",
       "      <td>Critical thinking skills, Written communicatio...</td>\n",
       "    </tr>\n",
       "  </tbody>\n",
       "</table>\n",
       "<p>5 rows × 36 columns</p>\n",
       "</div>"
      ],
      "text/plain": [
       "             Timestamp What is your gender  Year of graduation  \\\n",
       "4  2018-02-16 13:18:03              Female                2013   \n",
       "5  2018-02-16 16:44:18                Male                2015   \n",
       "6  2018-02-19 07:24:05                Male                2013   \n",
       "8  2018-02-19 08:53:52              Female                2017   \n",
       "10 2018-02-19 09:19:58                Male                2015   \n",
       "\n",
       "                          Title of course studied  \\\n",
       "4                                      Statistics   \n",
       "5             Electrical & Electronic Engineering   \n",
       "6                                       Economics   \n",
       "8   Industrial Relations and Personnel Management   \n",
       "10                                      Economics   \n",
       "\n",
       "   Polytechnic/University attended What is your highest level of education?  \\\n",
       "4           Ekiti State University                        Bachelor's degree   \n",
       "5              University of Benin                        Bachelor's degree   \n",
       "6            Bowen University, Iwo            Higher National Diploma (HND)   \n",
       "8          Covenant University Ota                        Bachelor's degree   \n",
       "10            University of Ibadan                        Bachelor's degree   \n",
       "\n",
       "             What best describes your current status?  \\\n",
       "4                 Working full time (paid employment)   \n",
       "5                 Working full time (paid employment)   \n",
       "6                 Working full time (paid employment)   \n",
       "8                                 Youth Corper (NYSC)   \n",
       "10  Due to start a job in the next month/developin...   \n",
       "\n",
       "    How many jobs have you had since graduation including your current one?  \\\n",
       "4                                                   3                         \n",
       "5                                                   2                         \n",
       "6                                                   4                         \n",
       "8                                                   2                         \n",
       "10                                                  3                         \n",
       "\n",
       "   Have you completed your NYSC?  \\\n",
       "4                            Yes   \n",
       "5                             No   \n",
       "6                            Yes   \n",
       "8                        Ongoing   \n",
       "10                           Yes   \n",
       "\n",
       "    If you answered yes/ongoing to the previous question, what year did you (or will you) complete your NYSC?  \\\n",
       "4                                              2016.0                                                           \n",
       "5                                              2013.0                                                           \n",
       "6                                              2016.0                                                           \n",
       "8                                              2018.0                                                           \n",
       "10                                             2016.0                                                           \n",
       "\n",
       "                                      ...                                      \\\n",
       "4                                     ...                                       \n",
       "5                                     ...                                       \n",
       "6                                     ...                                       \n",
       "8                                     ...                                       \n",
       "10                                    ...                                       \n",
       "\n",
       "   What currency are you currently paid in?  \\\n",
       "4                                     Naira   \n",
       "5                                     Naira   \n",
       "6                                     Naira   \n",
       "8                                     Naira   \n",
       "10                                    Naira   \n",
       "\n",
       "   Approximately how many hours a day do you currently work?  \\\n",
       "4                                                 8.0          \n",
       "5                                                10.0          \n",
       "6                                                 8.0          \n",
       "8                                                 9.0          \n",
       "10                                                9.0          \n",
       "\n",
       "   As far as you are aware, what was most important to your current employer about your qualification?  \\\n",
       "4   IT/SIWES/Internship experience (gained as part...                                                    \n",
       "5                                            Capacity                                                    \n",
       "6                                          Don't know                                                    \n",
       "8                            The subject(s) I studied                                                    \n",
       "10                         No one thing was important                                                    \n",
       "\n",
       "               How do you find out about your job(s)?  \\\n",
       "4     Personal contacts, including family and friends   \n",
       "5          Social media/professional networking sites   \n",
       "6   University/polytechnic (e.g. Careers Service, ...   \n",
       "8     Personal contacts, including family and friends   \n",
       "10    Personal contacts, including family and friends   \n",
       "\n",
       "   Thinking about your current employment, did you work for your employer before or during your  higher education study?  \\\n",
       "4                                                  No                                                                      \n",
       "5                                                  No                                                                      \n",
       "6               Yes: during my higher education study                                                                      \n",
       "8                                                  No                                                                      \n",
       "10                                                 No                                                                      \n",
       "\n",
       "   Which form of transport do you use the most?  \\\n",
       "4                           Commercial Vehicles   \n",
       "5                                           Car   \n",
       "6                           Commercial Vehicles   \n",
       "8                     Keke Marwa/Napep/Tricycle   \n",
       "10                          Commercial Vehicles   \n",
       "\n",
       "   Were you able to rent an apartment or buy a car from the salary you got from your first job?  \\\n",
       "4                                                  No                                             \n",
       "5                             No: From my current job                                             \n",
       "6                             No: From my current job                                             \n",
       "8                                                  No                                             \n",
       "10                                                 No                                             \n",
       "\n",
       "   My course of study prepared me well for employment  \\\n",
       "4                                               Agree   \n",
       "5                                               Agree   \n",
       "6                                   Strongly Disagree   \n",
       "8                                               Agree   \n",
       "10                                  Strongly Disagree   \n",
       "\n",
       "   My course of study prepared me well for further studies  \\\n",
       "4                                               Agree        \n",
       "5                                               Agree        \n",
       "6                                   Strongly Disagree        \n",
       "8                                               Agree        \n",
       "10                                  Strongly Disagree        \n",
       "\n",
       "   Which of these skills/knowledge did your higher education prepare you for?  \n",
       "4                            Critical thinking skills                          \n",
       "5   Ability to work with others, Knowledge of the ...                          \n",
       "6   Critical thinking skills, Ability to work with...                          \n",
       "8                         Ability to work with others                          \n",
       "10  Critical thinking skills, Written communicatio...                          \n",
       "\n",
       "[5 rows x 36 columns]"
      ]
     },
     "execution_count": 5,
     "metadata": {},
     "output_type": "execute_result"
    }
   ],
   "source": [
    "# Remove rows with missing\n",
    "graduates_data = graduates_data.dropna()\n",
    "\n",
    "# Show data - head\n",
    "graduates_data.head()"
   ]
  },
  {
   "cell_type": "code",
   "execution_count": 6,
   "metadata": {},
   "outputs": [
    {
     "name": "stdout",
     "output_type": "stream",
     "text": [
      "(1229, 36)\n"
     ]
    }
   ],
   "source": [
    "# Current shape (rows and columns)\n",
    "\n",
    "print(graduates_data.shape)\n"
   ]
  },
  {
   "cell_type": "markdown",
   "metadata": {},
   "source": [
    "### Year of graduation\n"
   ]
  },
  {
   "cell_type": "code",
   "execution_count": 7,
   "metadata": {},
   "outputs": [
    {
     "data": {
      "text/plain": [
       "2015    354\n",
       "2014    296\n",
       "2013    248\n",
       "2016    213\n",
       "2017    118\n",
       "Name: Year of graduation, dtype: int64"
      ]
     },
     "execution_count": 7,
     "metadata": {},
     "output_type": "execute_result"
    }
   ],
   "source": [
    "graduates_data['Year of graduation'].value_counts()"
   ]
  },
  {
   "cell_type": "markdown",
   "metadata": {},
   "source": [
    "### What is your gender"
   ]
  },
  {
   "cell_type": "code",
   "execution_count": 8,
   "metadata": {},
   "outputs": [
    {
     "data": {
      "text/plain": [
       "Male      641\n",
       "Female    588\n",
       "Name: What is your gender, dtype: int64"
      ]
     },
     "execution_count": 8,
     "metadata": {},
     "output_type": "execute_result"
    }
   ],
   "source": [
    "graduates_data['What is your gender'].value_counts()"
   ]
  },
  {
   "cell_type": "markdown",
   "metadata": {},
   "source": [
    "### Title of course studied"
   ]
  },
  {
   "cell_type": "code",
   "execution_count": 9,
   "metadata": {},
   "outputs": [
    {
     "data": {
      "text/plain": [
       "Computer Science                                        110\n",
       "Economics                                                89\n",
       "Accountancy                                              85\n",
       "Electrical & Electronic Engineering                      57\n",
       "Mass Communication (Communication and Language Arts)     53\n",
       "Biochemistry                                             47\n",
       "Business Administration                                  38\n",
       "Mechanical Engineering                                   37\n",
       "Law                                                      33\n",
       "Political Science                                        30\n",
       "History and International Studies                        29\n",
       "Microbiology                                             24\n",
       "English and Literary Studies                             23\n",
       "Computer Engineering                                     22\n",
       "Chemical Engineering                                     20\n",
       "Civil Engineering                                        20\n",
       "Industrial Relations and Personnel Management            20\n",
       "Geography                                                20\n",
       "Banking and Finance                                      19\n",
       "Architecture                                             19\n",
       "Geology                                                  16\n",
       "Medicine                                                 16\n",
       "Sociology/Anthropology                                   15\n",
       "Estate Management                                        14\n",
       "Statistics                                               14\n",
       "Psychology                                               14\n",
       "Physics and Astronomy                                    12\n",
       "Petroleum and Gas Engineering                            12\n",
       "Education & Economics                                    11\n",
       "Mathematics                                              11\n",
       "                                                       ... \n",
       "Demography and Social Statistics                          2\n",
       "Electronic Engineering                                    2\n",
       "Foreign Languages and Literature                          2\n",
       "Vocational Teacher Education (Technical Education)        2\n",
       "Education And Political Science                           2\n",
       "Fine and Applied Arts (Creatiuve Arts)                    2\n",
       "Clinical Pharmacy and Pharmacy Management                 2\n",
       "Veterinary Medicine                                       2\n",
       "Education & Computer Science                              2\n",
       "Education And Chemistry                                   2\n",
       "Hospitality and Tourism                                   2\n",
       "Medical Laboratory Sciences                               2\n",
       "Marine Engineering                                        1\n",
       "Education & Religious Studies                             1\n",
       "Animal Health and Production                              1\n",
       "Soil Science                                              1\n",
       "Medical Rehabilitation                                    1\n",
       "Chemical Pathology                                        1\n",
       "Adult Education and Extra-Mural Studies                   1\n",
       "Pharmaceutical Chemistry and Industrial Pharmacy          1\n",
       "Religion                                                  1\n",
       "French                                                    1\n",
       "Medical Microbiology                                      1\n",
       "Agronomy                                                  1\n",
       "Christian Religious Studies                               1\n",
       "Systems Engineering                                       1\n",
       "Home Science, Nutrition and Dietetics                     1\n",
       "Biomedical Engineering                                    1\n",
       "Education And French                                      1\n",
       "Social Sciences Education                                 1\n",
       "Name: Title of course studied, Length: 109, dtype: int64"
      ]
     },
     "execution_count": 9,
     "metadata": {},
     "output_type": "execute_result"
    }
   ],
   "source": [
    "graduates_data['Title of course studied'].value_counts()"
   ]
  },
  {
   "cell_type": "markdown",
   "metadata": {},
   "source": [
    "### Polytechnic/University attended"
   ]
  },
  {
   "cell_type": "code",
   "execution_count": 10,
   "metadata": {},
   "outputs": [
    {
     "data": {
      "text/plain": [
       "Covenant University Ota                                                                        148\n",
       "University of Lagos                                                                            112\n",
       "Obafemi Awolowo University,Ile-Ife                                                              79\n",
       "University of Ibadan                                                                            59\n",
       "Babcock University,Ilishan-Remo                                                                 49\n",
       "University of Benin                                                                             47\n",
       "University of Ilorin                                                                            41\n",
       "Others (For foreign trained students)                                                           40\n",
       "University of Agriculture, Abeokuta.                                                            33\n",
       "Bowen University, Iwo                                                                           29\n",
       "Lagos State University Ojo, Lagos.                                                              27\n",
       "University of Nigeria, Nsukka                                                                   27\n",
       "Ladoke Akintola University of Technology, Ogbomoso                                              25\n",
       "Federal University of Technology, Akure                                                         24\n",
       "Olabisi Onabanjo University Ago-Iwoye                                                           24\n",
       "Federal University of Technology, Owerri                                                        23\n",
       "University of Port-Harcourt                                                                     22\n",
       "Ekiti State University                                                                          21\n",
       "Federal University of Technology, Minna.                                                        17\n",
       "Ahmadu Bello University, Zaria                                                                  17\n",
       "Imo State University, Owerri                                                                    17\n",
       "Redeemer's University, Mowe                                                                     16\n",
       "Adekunle Ajasin University, Akungba.                                                            16\n",
       "Nnamdi Azikiwe University, Awka                                                                 16\n",
       "Osun State University, Oshogbo                                                                  12\n",
       "Lagos State Polytechnic, Ikorodu, Ikeja, Lagos, Lagos State.                                    11\n",
       "Delta State University Abraka                                                                   11\n",
       "Ebonyi State University, Abakaliki                                                               9\n",
       "Anambra State University of Science & Technology, Uli                                            9\n",
       "Federal Polytechnic Nekede, Owerri, Imo State.                                                   9\n",
       "                                                                                              ... \n",
       "Ibrahim Badamasi Babangida University, Lapai                                                     1\n",
       "Others (For other Nigerian institutions not listed)                                              1\n",
       "Caritas University, Enugu                                                                        1\n",
       "Nuhu Bamalli Polytechnic, Zaria, Kaduna State.                                                   1\n",
       "Tansian University,Umunya                                                                        1\n",
       "Federal Polytechnic Offa, Kwara State.                                                           1\n",
       "Dorben Polytechnic, Abuja, Garki, Bwari, Abuja.                                                  1\n",
       "Federal University, Oye-Ekiti, Ekiti State                                                       1\n",
       "Federal Polytechnic Idah, Kogi State.                                                            1\n",
       "Sokoto State University, Sokoto                                                                  1\n",
       "Niger State Polytechnic, Zungeru, Niger State.                                                   1\n",
       "Kaduna Polytechnic, Kaduna.                                                                      1\n",
       "Delta State Polytechnic, Otefe-Oghara, Delta State                                               1\n",
       "Abubakar Tatari Ali Polytechnic, Jos Rd, Bauchi, Bauchi State.                                   1\n",
       "Salem University,Lokoja                                                                          1\n",
       "Benson Idahosa University,Benin City                                                             1\n",
       "The Polytechnic, Ile Ife, O.A.U. Ile-Ife, Osun State.                                            1\n",
       "Veritas University                                                                               1\n",
       "Delta State Polytechnic, Ozoro, Delta State.                                                     1\n",
       "Abia State Polytechnic, Aba, Abia State.                                                         1\n",
       "Akwa Ibom State Polytechnic, Ikot Osurua, Ikot -Ekpene, Akwa Ibom State.                         1\n",
       "Crawford University Igbesa                                                                       1\n",
       "Cross River State University of Science &Technology, Calabar                                     1\n",
       "Abubakar Tafawa Balewa University, Bauchi                                                        1\n",
       "Pan-African University, Lagos                                                                    1\n",
       "Abdu Gusau Polytechnic, Talata Mafara, Zamfara State.                                            1\n",
       "Abraham Adesanya Polytechnic, Dogbolu/Akanran Ibadan Road, Atikori, Ijebu Igbo, Ogun State.      1\n",
       "Bolmor Polytechnic, Dugbe, Ibadan, Oyo State.                                                    1\n",
       "Ignatius Ajuru University of Education,Rumuolumeni.                                              1\n",
       "Al-Hikmah University, Ilorin                                                                     1\n",
       "Name: Polytechnic/University attended, Length: 110, dtype: int64"
      ]
     },
     "execution_count": 10,
     "metadata": {},
     "output_type": "execute_result"
    }
   ],
   "source": [
    "graduates_data['Polytechnic/University attended'].value_counts()"
   ]
  },
  {
   "cell_type": "markdown",
   "metadata": {},
   "source": [
    "### What is your highest level of education?"
   ]
  },
  {
   "cell_type": "code",
   "execution_count": 11,
   "metadata": {},
   "outputs": [
    {
     "data": {
      "text/plain": [
       "Bachelor's degree                  1035\n",
       "Master's degree                     110\n",
       "Higher National Diploma (HND)        69\n",
       "Ordinary National Diploma (OND)       7\n",
       "MBA degree                            6\n",
       "PhDs/Doctorate Degree                 2\n",
       "Name: What is your highest level of education?, dtype: int64"
      ]
     },
     "execution_count": 11,
     "metadata": {},
     "output_type": "execute_result"
    }
   ],
   "source": [
    "graduates_data['What is your highest level of education?'].value_counts()"
   ]
  },
  {
   "cell_type": "markdown",
   "metadata": {},
   "source": [
    "### What best describes your current status?"
   ]
  },
  {
   "cell_type": "code",
   "execution_count": 12,
   "metadata": {},
   "outputs": [
    {
     "data": {
      "text/plain": [
       "Working full time (paid employment)                                                           593\n",
       "Youth Corper (NYSC)                                                                           164\n",
       "Self-employed/freelance/entrepreneur                                                          151\n",
       "Unemployed                                                                                    122\n",
       "Voluntary or other unpaid work or on an internship                                             80\n",
       "Engaged in full-time further study, training or research                                       38\n",
       "Due to start a job in the next month/developing a professional portfolio/creative practice     37\n",
       "Taking time out to prepare for further studies, GMAT, professional exams                       21\n",
       "Doing something else (e.g. looking after home or family)                                       16\n",
       "Engaged in part-time further study, training or research                                        7\n",
       "Name: What best describes your current status?, dtype: int64"
      ]
     },
     "execution_count": 12,
     "metadata": {},
     "output_type": "execute_result"
    }
   ],
   "source": [
    "graduates_data['What best describes your current status?'].value_counts()\n"
   ]
  },
  {
   "cell_type": "code",
   "execution_count": 13,
   "metadata": {},
   "outputs": [
    {
     "name": "stdout",
     "output_type": "stream",
     "text": [
      "[(0, 'Timestamp'),\n",
      " (1, 'What is your gender'),\n",
      " (2, 'Year of graduation'),\n",
      " (3, 'Title of course studied'),\n",
      " (4, 'Polytechnic/University attended'),\n",
      " (5, 'What is your highest level of education?'),\n",
      " (6, 'What best describes your current status?'),\n",
      " (7, 'How many jobs have you had since graduation including your current one?'),\n",
      " (8, 'Have you completed your NYSC?'),\n",
      " (9,\n",
      "  'If you answered yes/ongoing to the previous question, what year did you (or '\n",
      "  'will you) complete your NYSC?'),\n",
      " (10, 'Did you get your first full time job through your NYSC placement?'),\n",
      " (11,\n",
      "  'Thinking about your first employment after graduation, what was your job '\n",
      "  'level?'),\n",
      " (12, 'What is/was your job role?'),\n",
      " (13,\n",
      "  'What sector/industry is your company in? (E.g. Banking, Agriculture, '\n",
      "  'Telecommunication)'),\n",
      " (14,\n",
      "  'Still thinking about your first employment, what is/was your monthly income '\n",
      "  'level?'),\n",
      " (15,\n",
      "  'Did you need your higher education qualification to get your first job (the '\n",
      "  'actual qualification, not the subject of study)?'),\n",
      " (16,\n",
      "  'What was the most significant reason for deciding to take your first job?'),\n",
      " (17, 'Thinking about your current employment, what is your job level?'),\n",
      " (18, 'What is your job role?'),\n",
      " (19,\n",
      "  'What sector/industry is your company in? (E.g. Banking, Agriculture, '\n",
      "  'Telecommunication).1'),\n",
      " (20, 'What is your current monthly income level?'),\n",
      " (21,\n",
      "  'Did you need your higher education qualification to get this job (the '\n",
      "  'actual qualification, not the subject of study)?'),\n",
      " (22, 'What was the most significant reason for deciding to take this job?'),\n",
      " (23,\n",
      "  'Which employer in the country do you think offers the best opportunities '\n",
      "  'for graduates?'),\n",
      " (24, 'Reason why?'),\n",
      " (25, 'Which sector is your most preferred sector to work in?'),\n",
      " (26, 'What currency are you currently paid in?'),\n",
      " (27, 'Approximately how many hours a day do you currently work?'),\n",
      " (28,\n",
      "  'As far as you are aware, what was most important to your current employer '\n",
      "  'about your qualification?'),\n",
      " (29, 'How do you find out about your job(s)?'),\n",
      " (30,\n",
      "  'Thinking about your current employment, did you work for your employer '\n",
      "  'before or during your  higher education study?'),\n",
      " (31, 'Which form of transport do you use the most?'),\n",
      " (32,\n",
      "  'Were you able to rent an apartment or buy a car from the salary you got '\n",
      "  'from your first job?'),\n",
      " (33, 'My course of study prepared me well for employment'),\n",
      " (34, 'My course of study prepared me well for further studies'),\n",
      " (35,\n",
      "  'Which of these skills/knowledge did your higher education prepare you for?')]\n"
     ]
    }
   ],
   "source": [
    "from pprint import pprint\n",
    "pprint(list(enumerate(graduates_data.columns)))"
   ]
  },
  {
   "cell_type": "markdown",
   "metadata": {},
   "source": [
    "### How many jobs have you had since graduation including your current one? (on Average)"
   ]
  },
  {
   "cell_type": "code",
   "execution_count": 14,
   "metadata": {},
   "outputs": [
    {
     "data": {
      "text/plain": [
       "2.500406834825061"
      ]
     },
     "execution_count": 14,
     "metadata": {},
     "output_type": "execute_result"
    }
   ],
   "source": [
    "graduates_data['How many jobs have you had since graduation including your current one?'].mean()"
   ]
  },
  {
   "cell_type": "markdown",
   "metadata": {},
   "source": [
    "### How many jobs have you had since graduation including your current one? (by Gender)"
   ]
  },
  {
   "cell_type": "code",
   "execution_count": 15,
   "metadata": {},
   "outputs": [
    {
     "data": {
      "text/plain": [
       "What is your gender\n",
       "Female    2.465986\n",
       "Male      2.531981\n",
       "Name: How many jobs have you had since graduation including your current one?, dtype: float64"
      ]
     },
     "execution_count": 15,
     "metadata": {},
     "output_type": "execute_result"
    }
   ],
   "source": [
    "graduates_data.groupby('What is your gender')['How many jobs have you had since graduation including your current one?'].mean()"
   ]
  },
  {
   "cell_type": "markdown",
   "metadata": {},
   "source": [
    "### 'How many jobs have you had since graduation including your current one? (by Year of graduation)"
   ]
  },
  {
   "cell_type": "code",
   "execution_count": 16,
   "metadata": {},
   "outputs": [
    {
     "data": {
      "text/plain": [
       "Year of graduation\n",
       "2013    2.758065\n",
       "2014    2.516892\n",
       "2015    2.468927\n",
       "2016    2.356808\n",
       "2017    2.271186\n",
       "Name: How many jobs have you had since graduation including your current one?, dtype: float64"
      ]
     },
     "execution_count": 16,
     "metadata": {},
     "output_type": "execute_result"
    }
   ],
   "source": [
    "graduates_data.groupby('Year of graduation')['How many jobs have you had since graduation including your current one?'].mean()"
   ]
  },
  {
   "cell_type": "markdown",
   "metadata": {},
   "source": [
    "### Have you completed your NYSC?"
   ]
  },
  {
   "cell_type": "code",
   "execution_count": 17,
   "metadata": {},
   "outputs": [
    {
     "data": {
      "text/plain": [
       "Have you completed your NYSC?\n",
       "No           49\n",
       "Ongoing     173\n",
       "Yes        1007\n",
       "Name: Have you completed your NYSC?, dtype: int64"
      ]
     },
     "execution_count": 17,
     "metadata": {},
     "output_type": "execute_result"
    }
   ],
   "source": [
    "graduates_data.groupby('Have you completed your NYSC?')['Have you completed your NYSC?'].count()"
   ]
  },
  {
   "cell_type": "markdown",
   "metadata": {},
   "source": [
    "### Answered Yes or Ongoing"
   ]
  },
  {
   "cell_type": "code",
   "execution_count": 18,
   "metadata": {},
   "outputs": [],
   "source": [
    "answered_yes_or_ongoing = graduates_data[(graduates_data['Have you completed your NYSC?']==\"Yes\") | (graduates_data['Have you completed your NYSC?']==\"Ongoing\")]"
   ]
  },
  {
   "cell_type": "markdown",
   "metadata": {},
   "source": [
    "### If you answered yes/ongoing to the previous question, what year did you (or will you) complete your NYSC?"
   ]
  },
  {
   "cell_type": "code",
   "execution_count": 19,
   "metadata": {},
   "outputs": [
    {
     "data": {
      "text/plain": [
       "If you answered yes/ongoing to the previous question, what year did you (or will you) complete your NYSC?\n",
       "2013.0     39\n",
       "2014.0    132\n",
       "2015.0    218\n",
       "2016.0    272\n",
       "2017.0    328\n",
       "2018.0    176\n",
       "2019.0     15\n",
       "Name: If you answered yes/ongoing to the previous question, what year did you (or will you) complete your NYSC?, dtype: int64"
      ]
     },
     "execution_count": 19,
     "metadata": {},
     "output_type": "execute_result"
    }
   ],
   "source": [
    "#answered_yes_or_ongoing = graduates_data[(graduates_data['Have you completed your NYSC?']==\"Yes\") | (graduates_data['Have you completed your NYSC?']==\"Ongoing\")]\n",
    "answered_yes_or_ongoing.groupby(['If you answered yes/ongoing to the previous question, what year did you (or will you) complete your NYSC?'])['If you answered yes/ongoing to the previous question, what year did you (or will you) complete your NYSC?'].count()"
   ]
  },
  {
   "cell_type": "markdown",
   "metadata": {},
   "source": [
    "### Did you get your first full time job through your NYSC placement?"
   ]
  },
  {
   "cell_type": "code",
   "execution_count": 20,
   "metadata": {},
   "outputs": [
    {
     "data": {
      "text/plain": [
       "No                              932\n",
       "Yes                             212\n",
       "I have not completed my NYSC     85\n",
       "Name: Did you get your first full time job through your NYSC placement?, dtype: int64"
      ]
     },
     "execution_count": 20,
     "metadata": {},
     "output_type": "execute_result"
    }
   ],
   "source": [
    "graduates_data['Did you get your first full time job through your NYSC placement?'].value_counts()"
   ]
  },
  {
   "cell_type": "markdown",
   "metadata": {},
   "source": [
    "### Thinking about your first employment after graduation, what was your job level?"
   ]
  },
  {
   "cell_type": "code",
   "execution_count": 21,
   "metadata": {},
   "outputs": [
    {
     "data": {
      "text/plain": [
       "Teacher                                              154\n",
       "Customer Service                                     142\n",
       "Finance/Accounting                                   102\n",
       "Sales                                                 82\n",
       "Content Creator/Content Writer/ Content Developer     56\n",
       "IT Support                                            54\n",
       "Marketing                                             47\n",
       "Data Entry                                            44\n",
       "Executive Assistance/Personal Assitance               41\n",
       "Doctor, Nursing And Other Medical Related Roles       41\n",
       "Business Analyst                                      36\n",
       "Human Resources                                       33\n",
       "Business Developer                                    31\n",
       "Business Support                                      30\n",
       "Creatives                                             30\n",
       "Researcher                                            27\n",
       "Law And Other Legal Related Roles                     25\n",
       "Social Media/Digital Marketing                        24\n",
       "Operations Manager                                    19\n",
       "Architect                                             17\n",
       "Office Manager                                        16\n",
       "Mechanical Engineer                                   15\n",
       "Project Co-Ordinator                                  14\n",
       "Civil Engineer                                        13\n",
       "Systems Engineer                                      12\n",
       "Front-End Developer                                   12\n",
       "Estate Management                                     11\n",
       "Software Developer                                    11\n",
       "Event Management                                      10\n",
       "QA Engineer                                           10\n",
       "Product Manager                                       10\n",
       "Public Relations                                       9\n",
       "Web Developer                                          8\n",
       "Back-End Developer                                     8\n",
       "Graphic Designer                                       8\n",
       "Blue-collar/Artisan                                    7\n",
       "Hardware Engineer                                      5\n",
       "Telesales                                              4\n",
       "UI/UX Designer                                         4\n",
       "Devops Engineer                                        3\n",
       "Quantity Surveyor                                      3\n",
       "Petroleum Engineer                                     1\n",
       "Name: What is/was your job role?, dtype: int64"
      ]
     },
     "execution_count": 21,
     "metadata": {},
     "output_type": "execute_result"
    }
   ],
   "source": [
    "graduates_data['What is/was your job role?'].value_counts()"
   ]
  },
  {
   "cell_type": "markdown",
   "metadata": {},
   "source": [
    "### What sector/industry is your company in? (E.g. Banking, Agriculture, Telecommunication)"
   ]
  },
  {
   "cell_type": "code",
   "execution_count": 22,
   "metadata": {},
   "outputs": [
    {
     "data": {
      "text/plain": [
       "Education                          183\n",
       "Banking / Financial Services       113\n",
       "Technology                          97\n",
       "Consulting                          71\n",
       "Telecommunications                  63\n",
       "Healthcare                          61\n",
       "Others                              58\n",
       "Construction / Real Estate          57\n",
       "Advertising / Marketing / Comms     48\n",
       "Media                               45\n",
       "Ecommerce/Internet                  41\n",
       "Engineering                         41\n",
       "NGO                                 34\n",
       "Oil & Gas / Mining                  33\n",
       "Legal                               33\n",
       "Manufacturing / Production          27\n",
       "Trade / Services                    25\n",
       "Retail / Wholesales                 25\n",
       "Insurance                           24\n",
       "Agriculture/Poultry/Fishing         23\n",
       "Hospitality/Leisure                 23\n",
       "Creatives/Art/Design                23\n",
       "Logistics / Transportation          18\n",
       "Government / Defence                17\n",
       "FMCG                                17\n",
       "Food Services                       11\n",
       "Power/Energy                         8\n",
       "Travels/Tours                        7\n",
       "Aerospace                            2\n",
       "Blue Collar                          1\n",
       "Name: What sector/industry is your company in? (E.g. Banking, Agriculture, Telecommunication), dtype: int64"
      ]
     },
     "execution_count": 22,
     "metadata": {},
     "output_type": "execute_result"
    }
   ],
   "source": [
    "graduates_data['What sector/industry is your company in? (E.g. Banking, Agriculture, Telecommunication)'].value_counts()"
   ]
  },
  {
   "cell_type": "markdown",
   "metadata": {},
   "source": [
    "### Still thinking about your first employment, what is/was your monthly income level?"
   ]
  },
  {
   "cell_type": "code",
   "execution_count": 23,
   "metadata": {},
   "outputs": [
    {
     "data": {
      "text/plain": [
       "â€Žâ‚¦20,000 - â€Žâ‚¦49,999      527\n",
       "â€Žâ‚¦50,000 - â€Žâ‚¦99,999      320\n",
       "Under â€Žâ‚¦20,000               257\n",
       "â€Žâ‚¦100,000 - â€Žâ‚¦149,999     70\n",
       "â€Žâ‚¦150,000 - â€Žâ‚¦199,999     32\n",
       "â€Žâ‚¦200,000 - â€Žâ‚¦249,999     14\n",
       "â€Žâ‚¦250,000 and more             9\n",
       "Name: Still thinking about your first employment, what is/was your monthly income level?, dtype: int64"
      ]
     },
     "execution_count": 23,
     "metadata": {},
     "output_type": "execute_result"
    }
   ],
   "source": [
    "graduates_data['Still thinking about your first employment, what is/was your monthly income level?'].value_counts()"
   ]
  },
  {
   "cell_type": "markdown",
   "metadata": {},
   "source": [
    "### Did you need your higher education qualification to get your first job (the actual qualification, not the subject of study)?"
   ]
  },
  {
   "cell_type": "code",
   "execution_count": 24,
   "metadata": {},
   "outputs": [
    {
     "data": {
      "text/plain": [
       "Yes: the qualification was a formal requirement                                          672\n",
       "No: the qualification was not required                                                   311\n",
       "Yes: while the qualification was not a formal requirement it did give me an advantage    222\n",
       "Don't know                                                                                24\n",
       "Name: Did you need your higher education qualification to get your first job (the actual qualification, not the subject of study)?, dtype: int64"
      ]
     },
     "execution_count": 24,
     "metadata": {},
     "output_type": "execute_result"
    }
   ],
   "source": [
    "graduates_data['Did you need your higher education qualification to get your first job (the actual qualification, not the subject of study)?'].value_counts()"
   ]
  },
  {
   "cell_type": "markdown",
   "metadata": {},
   "source": [
    "### What was the most significant reason for deciding to take this job?"
   ]
  },
  {
   "cell_type": "code",
   "execution_count": 25,
   "metadata": {},
   "outputs": [
    {
     "data": {
      "text/plain": [
       "To gain and broaden my experience in order to get the type of job I really want                      348\n",
       "It fitted into my career plan/it was exactly the type of work I wanted                               343\n",
       "It was the only job offer I received                                                                 117\n",
       "In order to earn a living/pay off debts                                                              112\n",
       "It was the best job offer I received                                                                 112\n",
       "It was an opportunity to progress in the organisation                                                 80\n",
       "To see if I would like the type of work it involved                                                   34\n",
       "The job was well-paid                                                                                 18\n",
       "It was in the right location                                                                          16\n",
       "Nysc placement                                                                                         2\n",
       "NYSC posting                                                                                           2\n",
       "Nysc                                                                                                   2\n",
       "It was necessity                                                                                       1\n",
       "To enable me pursue my masters program                                                                 1\n",
       "Place of Primary Assignment                                                                            1\n",
       "it was my place of primary assignment and was retained afterwards                                      1\n",
       "Nysc Posting                                                                                           1\n",
       "To engage my Creativity                                                                                1\n",
       "It is because of Nysc and it is where Nysc post me to for PPA                                          1\n",
       "To keep myself engaged while studying                                                                  1\n",
       "nysc placement                                                                                         1\n",
       "No specific reason, NYSC posted, I accepted. Though it does have some bearing on future plans...       1\n",
       "It was what i was given to do in regards to NYSC                                                       1\n",
       "It's my passion                                                                                        1\n",
       "Its more like something i do to pass time                                                              1\n",
       "It was a big step in my career                                                                         1\n",
       "its a self-employment for self development                                                             1\n",
       "It was where I was posted to due to my course of study.                                                1\n",
       "NYSC Primary assignment                                                                                1\n",
       "I'm working in the firm as a result of youth service                                                   1\n",
       "I am an entrepreneur                                                                                   1\n",
       "Due to youth service                                                                                   1\n",
       "To make money and earn a living                                                                        1\n",
       "NYSC placement                                                                                         1\n",
       "It was the only organization that accepted my posting letter from NYSC                                 1\n",
       "Job security to further my academic pursuit                                                            1\n",
       "I was posted there by NYSC  for my PPA                                                                 1\n",
       "Just to while away time                                                                                1\n",
       "Wanted to contribute my own quota to the organization                                                  1\n",
       "Self Improvement                                                                                       1\n",
       "Nysc.                                                                                                  1\n",
       "For Nysc                                                                                               1\n",
       "To help develop my skills                                                                              1\n",
       "My start up company owned by myself                                                                    1\n",
       "It was going to be a new experience with new challenges in a new environment                           1\n",
       "Nysc                                                                                                   1\n",
       "I did it because it give me time to involve myself in a particular training                            1\n",
       "unemployment factor                                                                                    1\n",
       "none                                                                                                   1\n",
       "I'm currently working at my ppa..  Government secondary school bebeji,  kano state                     1\n",
       "It is a voluntary business                                                                             1\n",
       "To help develop my skills                                                                              1\n",
       "It's Freelance and it affords me flexibility with my time                                              1\n",
       "It was based on my nysc posting                                                                        1\n",
       "To gain work experience                                                                                1\n",
       "Name: What was the most significant reason for deciding to take this job?, dtype: int64"
      ]
     },
     "execution_count": 25,
     "metadata": {},
     "output_type": "execute_result"
    }
   ],
   "source": [
    "graduates_data['What was the most significant reason for deciding to take this job?'].value_counts()"
   ]
  },
  {
   "cell_type": "markdown",
   "metadata": {},
   "source": [
    "### What was the most significant reason for deciding to take your first job?\n"
   ]
  },
  {
   "cell_type": "code",
   "execution_count": 26,
   "metadata": {},
   "outputs": [
    {
     "data": {
      "text/plain": [
       "'What was the most significant reason for deciding to take your first job?'"
      ]
     },
     "execution_count": 26,
     "metadata": {},
     "output_type": "execute_result"
    }
   ],
   "source": [
    "graduates_data.columns[16]"
   ]
  },
  {
   "cell_type": "code",
   "execution_count": 27,
   "metadata": {},
   "outputs": [
    {
     "data": {
      "text/plain": [
       "To gain and broaden my experience in order to get the type of job I really want    443\n",
       "It was the only job offer I received                                               211\n",
       "It fitted into my career plan/it was exactly the type of work I wanted             209\n",
       "In order to earn a living/pay off debts                                            160\n",
       "It was the best job offer I received                                                70\n",
       "To see if I would like the type of work it involved                                 57\n",
       "It was an opportunity to progress in the organisation                               54\n",
       "It was in the right location                                                        18\n",
       "The job was well-paid                                                                7\n",
       "Name: What was the most significant reason for deciding to take your first job?, dtype: int64"
      ]
     },
     "execution_count": 27,
     "metadata": {},
     "output_type": "execute_result"
    }
   ],
   "source": [
    "graduates_data[graduates_data.columns[16]].value_counts()"
   ]
  },
  {
   "cell_type": "markdown",
   "metadata": {},
   "source": [
    "### Thinking about your current employment, what is your job level?\n"
   ]
  },
  {
   "cell_type": "code",
   "execution_count": 28,
   "metadata": {},
   "outputs": [
    {
     "data": {
      "text/plain": [
       "'Thinking about your current employment, what is your job level?'"
      ]
     },
     "execution_count": 28,
     "metadata": {},
     "output_type": "execute_result"
    }
   ],
   "source": [
    "graduates_data.columns[17]"
   ]
  },
  {
   "cell_type": "code",
   "execution_count": 29,
   "metadata": {},
   "outputs": [
    {
     "data": {
      "text/plain": [
       "Entry level                    640\n",
       "Experience/Professional        323\n",
       "Clerical and administrative    171\n",
       "Managerial                      75\n",
       "Executive Director              19\n",
       "Experience                       1\n",
       "Name: Thinking about your current employment, what is your job level?, dtype: int64"
      ]
     },
     "execution_count": 29,
     "metadata": {},
     "output_type": "execute_result"
    }
   ],
   "source": [
    "graduates_data[graduates_data.columns[17]].value_counts()"
   ]
  },
  {
   "cell_type": "markdown",
   "metadata": {},
   "source": [
    "### What is your job role?\n"
   ]
  },
  {
   "cell_type": "code",
   "execution_count": 30,
   "metadata": {},
   "outputs": [
    {
     "data": {
      "text/plain": [
       "'What is your job role?'"
      ]
     },
     "execution_count": 30,
     "metadata": {},
     "output_type": "execute_result"
    }
   ],
   "source": [
    "graduates_data.columns[18]"
   ]
  },
  {
   "cell_type": "code",
   "execution_count": 31,
   "metadata": {},
   "outputs": [
    {
     "data": {
      "text/plain": [
       "Customer Service                                     138\n",
       "Finance/Accounting                                   122\n",
       "Teacher                                              116\n",
       "Sales                                                 60\n",
       "Business Developer                                    54\n",
       "IT Support                                            46\n",
       "Business Analyst                                      46\n",
       "Doctor, Nursing And Other Medical Related Roles       42\n",
       "Marketing                                             42\n",
       "Content Creator/Content Writer/ Content Developer     41\n",
       "Operations Manager                                    39\n",
       "Executive Assistance/Personal Assitance               35\n",
       "Human Resources                                       33\n",
       "Data Entry                                            32\n",
       "Social Media/Digital Marketing                        30\n",
       "Researcher                                            28\n",
       "Creatives                                             28\n",
       "Business Support                                      25\n",
       "Law And Other Legal Related Roles                     25\n",
       "Office Manager                                        25\n",
       "Project Co-Ordinator                                  24\n",
       "Architect                                             18\n",
       "Software Developer                                    18\n",
       "Civil Engineer                                        16\n",
       "Systems Engineer                                      15\n",
       "Mechanical Engineer                                   12\n",
       "Product Manager                                       12\n",
       "Public Relations                                      11\n",
       "Estate Management                                     10\n",
       "QA Engineer                                           10\n",
       "Blue-collar/Artisan                                   10\n",
       "Graphic Designer                                       9\n",
       "UI/UX Designer                                         8\n",
       "Front-End Developer                                    8\n",
       "Web Developer                                          8\n",
       "Hardware Engineer                                      7\n",
       "Event Management                                       7\n",
       "Back-End Developer                                     6\n",
       "Devops Engineer                                        4\n",
       "Petroleum Engineer                                     4\n",
       "Quantity Surveyor                                      3\n",
       "Telesales                                              1\n",
       "Software Architect                                     1\n",
       "Name: What is your job role?, dtype: int64"
      ]
     },
     "execution_count": 31,
     "metadata": {},
     "output_type": "execute_result"
    }
   ],
   "source": [
    "graduates_data[graduates_data.columns[18]].value_counts()"
   ]
  },
  {
   "cell_type": "markdown",
   "metadata": {},
   "source": [
    "### What sector/industry is your company in? (E.g. Banking, Agriculture, Telecommunication).1\n"
   ]
  },
  {
   "cell_type": "code",
   "execution_count": 32,
   "metadata": {},
   "outputs": [
    {
     "data": {
      "text/plain": [
       "'What sector/industry is your company in? (E.g. Banking, Agriculture, Telecommunication).1'"
      ]
     },
     "execution_count": 32,
     "metadata": {},
     "output_type": "execute_result"
    }
   ],
   "source": [
    "graduates_data.columns[19]"
   ]
  },
  {
   "cell_type": "code",
   "execution_count": 33,
   "metadata": {},
   "outputs": [
    {
     "data": {
      "text/plain": [
       "Education                          148\n",
       "Banking / Financial Services       132\n",
       "Technology                          94\n",
       "Consulting                          73\n",
       "Others                              64\n",
       "Healthcare                          63\n",
       "Construction / Real Estate          54\n",
       "Telecommunications                  54\n",
       "Media                               50\n",
       "Engineering                         49\n",
       "Advertising / Marketing / Comms     45\n",
       "Ecommerce/Internet                  38\n",
       "Oil & Gas / Mining                  36\n",
       "NGO                                 35\n",
       "Creatives/Art/Design                32\n",
       "FMCG                                29\n",
       "Legal                               26\n",
       "Trade / Services                    26\n",
       "Agriculture/Poultry/Fishing         26\n",
       "Insurance                           21\n",
       "Manufacturing / Production          21\n",
       "Hospitality/Leisure                 21\n",
       "Government / Defence                21\n",
       "Logistics / Transportation          16\n",
       "Retail / Wholesales                 14\n",
       "Power/Energy                        12\n",
       "Food Services                       12\n",
       "Travels/Tours                        8\n",
       "Blue Collar                          7\n",
       "Aerospace                            2\n",
       "Name: What sector/industry is your company in? (E.g. Banking, Agriculture, Telecommunication).1, dtype: int64"
      ]
     },
     "execution_count": 33,
     "metadata": {},
     "output_type": "execute_result"
    }
   ],
   "source": [
    "graduates_data[graduates_data.columns[19]].value_counts()"
   ]
  },
  {
   "cell_type": "markdown",
   "metadata": {},
   "source": [
    "### What is your current monthly income level?\n"
   ]
  },
  {
   "cell_type": "code",
   "execution_count": 34,
   "metadata": {},
   "outputs": [
    {
     "data": {
      "text/plain": [
       "'What is your current monthly income level?'"
      ]
     },
     "execution_count": 34,
     "metadata": {},
     "output_type": "execute_result"
    }
   ],
   "source": [
    "graduates_data.columns[20]"
   ]
  },
  {
   "cell_type": "code",
   "execution_count": 35,
   "metadata": {},
   "outputs": [
    {
     "data": {
      "text/plain": [
       "â€Žâ‚¦50,000 - â€Žâ‚¦99,999      373\n",
       "â€Žâ‚¦20,000 - â€Žâ‚¦49,999      327\n",
       "â€Žâ‚¦100,000 - â€Žâ‚¦149,999    170\n",
       "Under â€Žâ‚¦20,000               157\n",
       "â€Žâ‚¦150,000 - â€Žâ‚¦199,999     95\n",
       "â€Žâ‚¦250,000 and more            62\n",
       "â€Žâ‚¦200,000 - â€Žâ‚¦249,999     45\n",
       "Name: What is your current monthly income level?, dtype: int64"
      ]
     },
     "execution_count": 35,
     "metadata": {},
     "output_type": "execute_result"
    }
   ],
   "source": [
    "graduates_data[graduates_data.columns[20]].value_counts()"
   ]
  },
  {
   "cell_type": "markdown",
   "metadata": {},
   "source": [
    "### Did you need your higher education qualification to get this job (the actual qualification, not the subject of study)\n"
   ]
  },
  {
   "cell_type": "code",
   "execution_count": 36,
   "metadata": {},
   "outputs": [
    {
     "data": {
      "text/plain": [
       "'Did you need your higher education qualification to get this job (the actual qualification, not the subject of study)?'"
      ]
     },
     "execution_count": 36,
     "metadata": {},
     "output_type": "execute_result"
    }
   ],
   "source": [
    "graduates_data.columns[21]"
   ]
  },
  {
   "cell_type": "code",
   "execution_count": 37,
   "metadata": {},
   "outputs": [
    {
     "data": {
      "text/plain": [
       "Yes: the qualification was a formal requirement                                          735\n",
       "No: the qualification was not required                                                   256\n",
       "Yes: while the qualification was not a formal requirement it did give me an advantage    213\n",
       "Don't know                                                                                25\n",
       "Name: Did you need your higher education qualification to get this job (the actual qualification, not the subject of study)?, dtype: int64"
      ]
     },
     "execution_count": 37,
     "metadata": {},
     "output_type": "execute_result"
    }
   ],
   "source": [
    "graduates_data[graduates_data.columns[21]].value_counts()"
   ]
  },
  {
   "cell_type": "markdown",
   "metadata": {},
   "source": [
    "### 'What was the most significant reason for deciding to take this job?\n"
   ]
  },
  {
   "cell_type": "code",
   "execution_count": 38,
   "metadata": {},
   "outputs": [
    {
     "data": {
      "text/plain": [
       "'What was the most significant reason for deciding to take this job?'"
      ]
     },
     "execution_count": 38,
     "metadata": {},
     "output_type": "execute_result"
    }
   ],
   "source": [
    "graduates_data.columns[22]"
   ]
  },
  {
   "cell_type": "code",
   "execution_count": 39,
   "metadata": {},
   "outputs": [
    {
     "data": {
      "text/plain": [
       "To gain and broaden my experience in order to get the type of job I really want                      348\n",
       "It fitted into my career plan/it was exactly the type of work I wanted                               343\n",
       "It was the only job offer I received                                                                 117\n",
       "In order to earn a living/pay off debts                                                              112\n",
       "It was the best job offer I received                                                                 112\n",
       "It was an opportunity to progress in the organisation                                                 80\n",
       "To see if I would like the type of work it involved                                                   34\n",
       "The job was well-paid                                                                                 18\n",
       "It was in the right location                                                                          16\n",
       "Nysc placement                                                                                         2\n",
       "NYSC posting                                                                                           2\n",
       "Nysc                                                                                                   2\n",
       "It was necessity                                                                                       1\n",
       "To enable me pursue my masters program                                                                 1\n",
       "Place of Primary Assignment                                                                            1\n",
       "it was my place of primary assignment and was retained afterwards                                      1\n",
       "Nysc Posting                                                                                           1\n",
       "To engage my Creativity                                                                                1\n",
       "It is because of Nysc and it is where Nysc post me to for PPA                                          1\n",
       "To keep myself engaged while studying                                                                  1\n",
       "nysc placement                                                                                         1\n",
       "No specific reason, NYSC posted, I accepted. Though it does have some bearing on future plans...       1\n",
       "It was what i was given to do in regards to NYSC                                                       1\n",
       "It's my passion                                                                                        1\n",
       "Its more like something i do to pass time                                                              1\n",
       "It was a big step in my career                                                                         1\n",
       "its a self-employment for self development                                                             1\n",
       "It was where I was posted to due to my course of study.                                                1\n",
       "NYSC Primary assignment                                                                                1\n",
       "I'm working in the firm as a result of youth service                                                   1\n",
       "I am an entrepreneur                                                                                   1\n",
       "Due to youth service                                                                                   1\n",
       "To make money and earn a living                                                                        1\n",
       "NYSC placement                                                                                         1\n",
       "It was the only organization that accepted my posting letter from NYSC                                 1\n",
       "Job security to further my academic pursuit                                                            1\n",
       "I was posted there by NYSC  for my PPA                                                                 1\n",
       "Just to while away time                                                                                1\n",
       "Wanted to contribute my own quota to the organization                                                  1\n",
       "Self Improvement                                                                                       1\n",
       "Nysc.                                                                                                  1\n",
       "For Nysc                                                                                               1\n",
       "To help develop my skills                                                                              1\n",
       "My start up company owned by myself                                                                    1\n",
       "It was going to be a new experience with new challenges in a new environment                           1\n",
       "Nysc                                                                                                   1\n",
       "I did it because it give me time to involve myself in a particular training                            1\n",
       "unemployment factor                                                                                    1\n",
       "none                                                                                                   1\n",
       "I'm currently working at my ppa..  Government secondary school bebeji,  kano state                     1\n",
       "It is a voluntary business                                                                             1\n",
       "To help develop my skills                                                                              1\n",
       "It's Freelance and it affords me flexibility with my time                                              1\n",
       "It was based on my nysc posting                                                                        1\n",
       "To gain work experience                                                                                1\n",
       "Name: What was the most significant reason for deciding to take this job?, dtype: int64"
      ]
     },
     "execution_count": 39,
     "metadata": {},
     "output_type": "execute_result"
    }
   ],
   "source": [
    "graduates_data[graduates_data.columns[22]].value_counts()"
   ]
  },
  {
   "cell_type": "markdown",
   "metadata": {},
   "source": [
    "### Which employer in the country do you think offers the best opportunities for graduates?\n"
   ]
  },
  {
   "cell_type": "code",
   "execution_count": 40,
   "metadata": {},
   "outputs": [
    {
     "data": {
      "text/plain": [
       "'Which employer in the country do you think offers the best opportunities for graduates?'"
      ]
     },
     "execution_count": 40,
     "metadata": {},
     "output_type": "execute_result"
    }
   ],
   "source": [
    "graduates_data.columns[23]"
   ]
  },
  {
   "cell_type": "code",
   "execution_count": 41,
   "metadata": {},
   "outputs": [
    {
     "data": {
      "text/plain": [
       "Andela                                                    37\n",
       "KPMG                                                      31\n",
       "Banks                                                     17\n",
       "Shell                                                     15\n",
       "Multinationals                                            14\n",
       "Google                                                    13\n",
       "Banking                                                   13\n",
       "NGO                                                       12\n",
       "Oil and gas                                               11\n",
       "PWC                                                       10\n",
       "Oil and Gas                                               10\n",
       "Kpmg                                                      10\n",
       "Chevron                                                   10\n",
       "Federal Government                                        10\n",
       "Government                                                 8\n",
       "General Electric                                           8\n",
       "Multinationals                                             8\n",
       "None                                                       8\n",
       "Oil companies                                              8\n",
       "Access Bank                                                7\n",
       "Nestle                                                     7\n",
       "Telecommunications                                         7\n",
       "Telecommunication                                          7\n",
       "McKinsey                                                   7\n",
       "Dangote                                                    7\n",
       "Pwc                                                        6\n",
       "P&G                                                        6\n",
       "PwC                                                        6\n",
       "FMCG                                                       6\n",
       "Access bank                                                5\n",
       "                                                          ..\n",
       "Dangote Group                                              1\n",
       "Same company I'm working in rn. Redcare HMO                1\n",
       "Deloitte                                                   1\n",
       "Insight Communications or any other advertising agency     1\n",
       "Big 4                                                      1\n",
       "Mckinsey and Co                                            1\n",
       "Multinationals/Self                                        1\n",
       "Big, private schools, healthcare/public health             1\n",
       "Any successful entrepreneurs                               1\n",
       "shell                                                      1\n",
       "IT firms                                                   1\n",
       "The Big 4 firms                                            1\n",
       "Ministry of works                                          1\n",
       "shell Petroleum Development Company                        1\n",
       "Entertainment and financial sector                         1\n",
       "OEMs.                                                      1\n",
       "GE                                                         1\n",
       "Private sector                                             1\n",
       "Oil and Gas cimpanies                                      1\n",
       "Public Service Emplyers                                    1\n",
       "PWc                                                        1\n",
       "Health sector                                              1\n",
       "Pharmaceutical companies                                   1\n",
       "Non-Profit                                                 1\n",
       "PriceWaters Coopers                                        1\n",
       "Technology and Financial services                          1\n",
       "Guarantee trust bank                                       1\n",
       "Under Government                                           1\n",
       "Engineer                                                   1\n",
       "Self employment is best                                    1\n",
       "Name: Which employer in the country do you think offers the best opportunities for graduates?, Length: 776, dtype: int64"
      ]
     },
     "execution_count": 41,
     "metadata": {},
     "output_type": "execute_result"
    }
   ],
   "source": [
    "graduates_data[graduates_data.columns[23]].value_counts()"
   ]
  },
  {
   "cell_type": "markdown",
   "metadata": {},
   "source": [
    "### Reason why\n"
   ]
  },
  {
   "cell_type": "code",
   "execution_count": 42,
   "metadata": {},
   "outputs": [
    {
     "data": {
      "text/plain": [
       "'Reason why?'"
      ]
     },
     "execution_count": 42,
     "metadata": {},
     "output_type": "execute_result"
    }
   ],
   "source": [
    "graduates_data.columns[24]"
   ]
  },
  {
   "cell_type": "code",
   "execution_count": 43,
   "metadata": {},
   "outputs": [
    {
     "data": {
      "text/plain": [
       "Impression formed from talking to people who have worked there or still work there                                                                                                                                                                                                                                                                                                                                                                                                                         621\n",
       "Impression formed during any encounter with company representatives                                                                                                                                                                                                                                                                                                                                                                                                                                        229\n",
       "Impression formed from the media                                                                                                                                                                                                                                                                                                                                                                                                                                                                           168\n",
       "Others                                                                                                                                                                                                                                                                                                                                                                                                                                                                                                     143\n",
       "Job security.                                                                                                                                                                                                                                                                                                                                                                                                                                                                                                1\n",
       "Good salary and welfare                                                                                                                                                                                                                                                                                                                                                                                                                                                                                      1\n",
       "I have never really sat down to examine companies fot employment                                                                                                                                                                                                                                                                                                                                                                                                                                             1\n",
       "Because i worked there.                                                                                                                                                                                                                                                                                                                                                                                                                                                                                      1\n",
       "Impression formed from Internship experience                                                                                                                                                                                                                                                                                                                                                                                                                                                                 1\n",
       "My personal experience working                                                                                                                                                                                                                                                                                                                                                                                                                                                                               1\n",
       "Impression from working with such firms                                                                                                                                                                                                                                                                                                                                                                                                                                                                      1\n",
       "Impression formed from talking to people in industry                                                                                                                                                                                                                                                                                                                                                                                                                                                         1\n",
       "Daily growth in IT                                                                                                                                                                                                                                                                                                                                                                                                                                                                                           1\n",
       "The culture truly encourages you to grow, explore your area of interest and supports work-life balance with active participation                                                                                                                                                                                                                                                                                                                                                                             1\n",
       "there is a level playing field                                                                                                                                                                                                                                                                                                                                                                                                                                                                               1\n",
       "Nil                                                                                                                                                                                                                                                                                                                                                                                                                                                                                                          1\n",
       "The international exposure I will get from the company                                                                                                                                                                                                                                                                                                                                                                                                                                                       1\n",
       "Impression formed when I interned with them coupled with my interaction with people who have worked or still work there.                                                                                                                                                                                                                                                                                                                                                                                     1\n",
       "Working for one self gives you a better opportunity and flexibility to process,transform what people will call little ideas into greater investment.                                                                                                                                                                                                                                                                                                                                                         1\n",
       "Impression formed from what i know and have experienced                                                                                                                                                                                                                                                                                                                                                                                                                                                      1\n",
       "Because of the work value and salary range accorded to staffs to ensure effective growth                                                                                                                                                                                                                                                                                                                                                                                                                     1\n",
       "It gives you opportunity to progress career wise and in academics too                                                                                                                                                                                                                                                                                                                                                                                                                                        1\n",
       ".....                                                                                                                                                                                                                                                                                                                                                                                                                                                                                                        1\n",
       "Impression formed working with the organisation                                                                                                                                                                                                                                                                                                                                                                                                                                                              1\n",
       "There is a dedication to your growth                                                                                                                                                                                                                                                                                                                                                                                                                                                                         1\n",
       "Working in a multinational at the start of your career dispels a lot of formulated ideas that a multinational is the best way to go about a career especially in Nigeria where expatriates dominate the company all by reason of not being Nigerian. Also, multinationals offer a wide range of experiences.                                                                                                                                                                                                 1\n",
       "Havent interacted with many companies                                                                                                                                                                                                                                                                                                                                                                                                                                                                        1\n",
       "Impression formed when i was working in an agric firm                                                                                                                                                                                                                                                                                                                                                                                                                                                        1\n",
       "Theres job security and peace of mind                                                                                                                                                                                                                                                                                                                                                                                                                                                                        1\n",
       "Gives you a leverage to get better opportunities                                                                                                                                                                                                                                                                                                                                                                                                                                                             1\n",
       "                                                                                                                                                                                                                                                                                                                                                                                                                                                                                                          ... \n",
       "Most employers demand years of experience most graduates do not have.                                                                                                                                                                                                                                                                                                                                                                                                                                        1\n",
       "gives your the opportunity to grow within the organisation                                                                                                                                                                                                                                                                                                                                                                                                                                                   1\n",
       "Personal Experience                                                                                                                                                                                                                                                                                                                                                                                                                                                                                          1\n",
       "I won't need to work for anyone                                                                                                                                                                                                                                                                                                                                                                                                                                                                              1\n",
       "Impression working there                                                                                                                                                                                                                                                                                                                                                                                                                                                                                     1\n",
       "Impression from personal experience and other people's experiences.                                                                                                                                                                                                                                                                                                                                                                                                                                          1\n",
       "Right benefits.                                                                                                                                                                                                                                                                                                                                                                                                                                                                                              1\n",
       "They are always employing                                                                                                                                                                                                                                                                                                                                                                                                                                                                                    1\n",
       "Inpression after an encounter with the company and from talking to people that still works there                                                                                                                                                                                                                                                                                                                                                                                                             1\n",
       "Option A plus the enabling environments provoded                                                                                                                                                                                                                                                                                                                                                                                                                                                             1\n",
       "Talent will fetch you more, the consciousness that it is yours will inspire you more                                                                                                                                                                                                                                                                                                                                                                                                                         1\n",
       "No idea                                                                                                                                                                                                                                                                                                                                                                                                                                                                                                      1\n",
       "Any one can work in a bank                                                                                                                                                                                                                                                                                                                                                                                                                                                                                   1\n",
       "They give more job opportunities for graduates and people with little or no experience                                                                                                                                                                                                                                                                                                                                                                                                                       1\n",
       "Statistics                                                                                                                                                                                                                                                                                                                                                                                                                                                                                                   1\n",
       "Experience heard from staff members; culture, training, exposure, opportunities for growth                                                                                                                                                                                                                                                                                                                                                                                                                   1\n",
       "I think that there are opportunities but people are not prepared towards the opportunities that are available.  One thing that helped me in the employment space is i had a good network, i kept tabs on people who were in my line of study and i kept asking questions.. At first, i was dabbling my hands into many things but as ii grew, i became streamlined.. Graduates need to get their hands stained and the time for that is 2 yrs before completion of studies to 2 years after graduation.      1\n",
       "most employers do not create opportunities for fresh graduates, they are all looking for people with experience.                                                                                                                                                                                                                                                                                                                                                                                             1\n",
       "No comment                                                                                                                                                                                                                                                                                                                                                                                                                                                                                                   1\n",
       "FAMILIARITY WITH GRADUATE PROGRAMME                                                                                                                                                                                                                                                                                                                                                                                                                                                                          1\n",
       "They pay well and value their staffs well                                                                                                                                                                                                                                                                                                                                                                                                                                                                    1\n",
       "Not really had experiences with many                                                                                                                                                                                                                                                                                                                                                                                                                                                                         1\n",
       "Experience and comments from others                                                                                                                                                                                                                                                                                                                                                                                                                                                                          1\n",
       "Impressions formed from any company and not getting feed backs                                                                                                                                                                                                                                                                                                                                                                                                                                               1\n",
       "Impression formed from the experience working in another company offering similar services.                                                                                                                                                                                                                                                                                                                                                                                                                  1\n",
       "no idea                                                                                                                                                                                                                                                                                                                                                                                                                                                                                                      1\n",
       "Best learning ground for fresh graduates.                                                                                                                                                                                                                                                                                                                                                                                                                                                                    1\n",
       "You get the chance to handle lots of responsibilities at the same time.                                                                                                                                                                                                                                                                                                                                                                                                                                      1\n",
       "Good pay, plus they sponsor your MBA after working with them for a while                                                                                                                                                                                                                                                                                                                                                                                                                                     1\n",
       "I HAVE NOT TRIES SO MANY                                                                                                                                                                                                                                                                                                                                                                                                                                                                                     1\n",
       "Name: Reason why?, Length: 72, dtype: int64"
      ]
     },
     "execution_count": 43,
     "metadata": {},
     "output_type": "execute_result"
    }
   ],
   "source": [
    "graduates_data[graduates_data.columns[24]].value_counts()"
   ]
  },
  {
   "cell_type": "markdown",
   "metadata": {},
   "source": [
    "### Which sector is your most preferred sector to work in?\n"
   ]
  },
  {
   "cell_type": "code",
   "execution_count": 44,
   "metadata": {},
   "outputs": [
    {
     "data": {
      "text/plain": [
       "'Which sector is your most preferred sector to work in?'"
      ]
     },
     "execution_count": 44,
     "metadata": {},
     "output_type": "execute_result"
    }
   ],
   "source": [
    "graduates_data.columns[25]"
   ]
  },
  {
   "cell_type": "code",
   "execution_count": 45,
   "metadata": {},
   "outputs": [
    {
     "data": {
      "text/plain": [
       "Oil & Gas / Mining                 161\n",
       "Technology                         135\n",
       "Banking / Financial Services       107\n",
       "Consulting                          86\n",
       "Engineering                         66\n",
       "Government / Defence                64\n",
       "Telecommunications                  62\n",
       "NGO                                 60\n",
       "Media                               55\n",
       "FMCG                                50\n",
       "Advertising / Marketing / Comms     48\n",
       "Healthcare                          44\n",
       "Creatives/Art/Design                43\n",
       "Education                           42\n",
       "Construction / Real Estate          30\n",
       "Manufacturing / Production          27\n",
       "Ecommerce/Internet                  25\n",
       "Agriculture/Poultry/Fishing         22\n",
       "Others                              20\n",
       "Power/Energy                        14\n",
       "Legal                               11\n",
       "Hospitality/Leisure                 11\n",
       "Food Services                       10\n",
       "Logistics / Transportation          10\n",
       "Travels/Tours                        8\n",
       "Aerospace                            6\n",
       "Trade / Services                     6\n",
       "Blue Collar                          3\n",
       "Insurance                            2\n",
       "Retail / Wholesales                  1\n",
       "Name: Which sector is your most preferred sector to work in?, dtype: int64"
      ]
     },
     "execution_count": 45,
     "metadata": {},
     "output_type": "execute_result"
    }
   ],
   "source": [
    "graduates_data[graduates_data.columns[25]].value_counts()"
   ]
  },
  {
   "cell_type": "markdown",
   "metadata": {},
   "source": [
    "### What currency are you currently paid in?\n"
   ]
  },
  {
   "cell_type": "code",
   "execution_count": 46,
   "metadata": {},
   "outputs": [
    {
     "data": {
      "text/plain": [
       "'What currency are you currently paid in?'"
      ]
     },
     "execution_count": 46,
     "metadata": {},
     "output_type": "execute_result"
    }
   ],
   "source": [
    "graduates_data.columns[26]"
   ]
  },
  {
   "cell_type": "code",
   "execution_count": 47,
   "metadata": {},
   "outputs": [
    {
     "data": {
      "text/plain": [
       "Naira               1207\n",
       "Foreign currency      22\n",
       "Name: What currency are you currently paid in?, dtype: int64"
      ]
     },
     "execution_count": 47,
     "metadata": {},
     "output_type": "execute_result"
    }
   ],
   "source": [
    "graduates_data[graduates_data.columns[26]].value_counts()"
   ]
  },
  {
   "cell_type": "markdown",
   "metadata": {},
   "source": [
    "### Approximately how many hours a day do you currently work?\n"
   ]
  },
  {
   "cell_type": "code",
   "execution_count": 48,
   "metadata": {},
   "outputs": [
    {
     "data": {
      "text/plain": [
       "'Approximately how many hours a day do you currently work?'"
      ]
     },
     "execution_count": 48,
     "metadata": {},
     "output_type": "execute_result"
    }
   ],
   "source": [
    "graduates_data.columns[27]"
   ]
  },
  {
   "cell_type": "code",
   "execution_count": 49,
   "metadata": {},
   "outputs": [
    {
     "data": {
      "text/html": [
       "<div>\n",
       "<style scoped>\n",
       "    .dataframe tbody tr th:only-of-type {\n",
       "        vertical-align: middle;\n",
       "    }\n",
       "\n",
       "    .dataframe tbody tr th {\n",
       "        vertical-align: top;\n",
       "    }\n",
       "\n",
       "    .dataframe thead th {\n",
       "        text-align: right;\n",
       "    }\n",
       "</style>\n",
       "<table border=\"1\" class=\"dataframe\">\n",
       "  <thead>\n",
       "    <tr style=\"text-align: right;\">\n",
       "      <th></th>\n",
       "      <th>Timestamp</th>\n",
       "      <th>What is your gender</th>\n",
       "      <th>Year of graduation</th>\n",
       "      <th>Title of course studied</th>\n",
       "      <th>Polytechnic/University attended</th>\n",
       "      <th>What is your highest level of education?</th>\n",
       "      <th>What best describes your current status?</th>\n",
       "      <th>How many jobs have you had since graduation including your current one?</th>\n",
       "      <th>Have you completed your NYSC?</th>\n",
       "      <th>If you answered yes/ongoing to the previous question, what year did you (or will you) complete your NYSC?</th>\n",
       "      <th>...</th>\n",
       "      <th>What currency are you currently paid in?</th>\n",
       "      <th>Approximately how many hours a day do you currently work?</th>\n",
       "      <th>As far as you are aware, what was most important to your current employer about your qualification?</th>\n",
       "      <th>How do you find out about your job(s)?</th>\n",
       "      <th>Thinking about your current employment, did you work for your employer before or during your  higher education study?</th>\n",
       "      <th>Which form of transport do you use the most?</th>\n",
       "      <th>Were you able to rent an apartment or buy a car from the salary you got from your first job?</th>\n",
       "      <th>My course of study prepared me well for employment</th>\n",
       "      <th>My course of study prepared me well for further studies</th>\n",
       "      <th>Which of these skills/knowledge did your higher education prepare you for?</th>\n",
       "    </tr>\n",
       "  </thead>\n",
       "  <tbody>\n",
       "    <tr>\n",
       "      <th>4</th>\n",
       "      <td>2018-02-16 13:18:03</td>\n",
       "      <td>Female</td>\n",
       "      <td>2013</td>\n",
       "      <td>Statistics</td>\n",
       "      <td>Ekiti State University</td>\n",
       "      <td>Bachelor's degree</td>\n",
       "      <td>Working full time (paid employment)</td>\n",
       "      <td>3</td>\n",
       "      <td>Yes</td>\n",
       "      <td>2016.0</td>\n",
       "      <td>...</td>\n",
       "      <td>Naira</td>\n",
       "      <td>8.0</td>\n",
       "      <td>IT/SIWES/Internship experience (gained as part...</td>\n",
       "      <td>Personal contacts, including family and friends</td>\n",
       "      <td>No</td>\n",
       "      <td>Commercial Vehicles</td>\n",
       "      <td>No</td>\n",
       "      <td>Agree</td>\n",
       "      <td>Agree</td>\n",
       "      <td>Critical thinking skills</td>\n",
       "    </tr>\n",
       "    <tr>\n",
       "      <th>5</th>\n",
       "      <td>2018-02-16 16:44:18</td>\n",
       "      <td>Male</td>\n",
       "      <td>2015</td>\n",
       "      <td>Electrical &amp; Electronic Engineering</td>\n",
       "      <td>University of Benin</td>\n",
       "      <td>Bachelor's degree</td>\n",
       "      <td>Working full time (paid employment)</td>\n",
       "      <td>2</td>\n",
       "      <td>No</td>\n",
       "      <td>2013.0</td>\n",
       "      <td>...</td>\n",
       "      <td>Naira</td>\n",
       "      <td>10.0</td>\n",
       "      <td>Capacity</td>\n",
       "      <td>Social media/professional networking sites</td>\n",
       "      <td>No</td>\n",
       "      <td>Car</td>\n",
       "      <td>No: From my current job</td>\n",
       "      <td>Agree</td>\n",
       "      <td>Agree</td>\n",
       "      <td>Ability to work with others, Knowledge of the ...</td>\n",
       "    </tr>\n",
       "    <tr>\n",
       "      <th>6</th>\n",
       "      <td>2018-02-19 07:24:05</td>\n",
       "      <td>Male</td>\n",
       "      <td>2013</td>\n",
       "      <td>Economics</td>\n",
       "      <td>Bowen University, Iwo</td>\n",
       "      <td>Higher National Diploma (HND)</td>\n",
       "      <td>Working full time (paid employment)</td>\n",
       "      <td>4</td>\n",
       "      <td>Yes</td>\n",
       "      <td>2016.0</td>\n",
       "      <td>...</td>\n",
       "      <td>Naira</td>\n",
       "      <td>8.0</td>\n",
       "      <td>Don't know</td>\n",
       "      <td>University/polytechnic (e.g. Careers Service, ...</td>\n",
       "      <td>Yes: during my higher education study</td>\n",
       "      <td>Commercial Vehicles</td>\n",
       "      <td>No: From my current job</td>\n",
       "      <td>Strongly Disagree</td>\n",
       "      <td>Strongly Disagree</td>\n",
       "      <td>Critical thinking skills, Ability to work with...</td>\n",
       "    </tr>\n",
       "    <tr>\n",
       "      <th>8</th>\n",
       "      <td>2018-02-19 08:53:52</td>\n",
       "      <td>Female</td>\n",
       "      <td>2017</td>\n",
       "      <td>Industrial Relations and Personnel Management</td>\n",
       "      <td>Covenant University Ota</td>\n",
       "      <td>Bachelor's degree</td>\n",
       "      <td>Youth Corper (NYSC)</td>\n",
       "      <td>2</td>\n",
       "      <td>Ongoing</td>\n",
       "      <td>2018.0</td>\n",
       "      <td>...</td>\n",
       "      <td>Naira</td>\n",
       "      <td>9.0</td>\n",
       "      <td>The subject(s) I studied</td>\n",
       "      <td>Personal contacts, including family and friends</td>\n",
       "      <td>No</td>\n",
       "      <td>Keke Marwa/Napep/Tricycle</td>\n",
       "      <td>No</td>\n",
       "      <td>Agree</td>\n",
       "      <td>Agree</td>\n",
       "      <td>Ability to work with others</td>\n",
       "    </tr>\n",
       "    <tr>\n",
       "      <th>10</th>\n",
       "      <td>2018-02-19 09:19:58</td>\n",
       "      <td>Male</td>\n",
       "      <td>2015</td>\n",
       "      <td>Economics</td>\n",
       "      <td>University of Ibadan</td>\n",
       "      <td>Bachelor's degree</td>\n",
       "      <td>Due to start a job in the next month/developin...</td>\n",
       "      <td>3</td>\n",
       "      <td>Yes</td>\n",
       "      <td>2016.0</td>\n",
       "      <td>...</td>\n",
       "      <td>Naira</td>\n",
       "      <td>9.0</td>\n",
       "      <td>No one thing was important</td>\n",
       "      <td>Personal contacts, including family and friends</td>\n",
       "      <td>No</td>\n",
       "      <td>Commercial Vehicles</td>\n",
       "      <td>No</td>\n",
       "      <td>Strongly Disagree</td>\n",
       "      <td>Strongly Disagree</td>\n",
       "      <td>Critical thinking skills, Written communicatio...</td>\n",
       "    </tr>\n",
       "  </tbody>\n",
       "</table>\n",
       "<p>5 rows × 36 columns</p>\n",
       "</div>"
      ],
      "text/plain": [
       "             Timestamp What is your gender  Year of graduation  \\\n",
       "4  2018-02-16 13:18:03              Female                2013   \n",
       "5  2018-02-16 16:44:18                Male                2015   \n",
       "6  2018-02-19 07:24:05                Male                2013   \n",
       "8  2018-02-19 08:53:52              Female                2017   \n",
       "10 2018-02-19 09:19:58                Male                2015   \n",
       "\n",
       "                          Title of course studied  \\\n",
       "4                                      Statistics   \n",
       "5             Electrical & Electronic Engineering   \n",
       "6                                       Economics   \n",
       "8   Industrial Relations and Personnel Management   \n",
       "10                                      Economics   \n",
       "\n",
       "   Polytechnic/University attended What is your highest level of education?  \\\n",
       "4           Ekiti State University                        Bachelor's degree   \n",
       "5              University of Benin                        Bachelor's degree   \n",
       "6            Bowen University, Iwo            Higher National Diploma (HND)   \n",
       "8          Covenant University Ota                        Bachelor's degree   \n",
       "10            University of Ibadan                        Bachelor's degree   \n",
       "\n",
       "             What best describes your current status?  \\\n",
       "4                 Working full time (paid employment)   \n",
       "5                 Working full time (paid employment)   \n",
       "6                 Working full time (paid employment)   \n",
       "8                                 Youth Corper (NYSC)   \n",
       "10  Due to start a job in the next month/developin...   \n",
       "\n",
       "    How many jobs have you had since graduation including your current one?  \\\n",
       "4                                                   3                         \n",
       "5                                                   2                         \n",
       "6                                                   4                         \n",
       "8                                                   2                         \n",
       "10                                                  3                         \n",
       "\n",
       "   Have you completed your NYSC?  \\\n",
       "4                            Yes   \n",
       "5                             No   \n",
       "6                            Yes   \n",
       "8                        Ongoing   \n",
       "10                           Yes   \n",
       "\n",
       "    If you answered yes/ongoing to the previous question, what year did you (or will you) complete your NYSC?  \\\n",
       "4                                              2016.0                                                           \n",
       "5                                              2013.0                                                           \n",
       "6                                              2016.0                                                           \n",
       "8                                              2018.0                                                           \n",
       "10                                             2016.0                                                           \n",
       "\n",
       "                                      ...                                      \\\n",
       "4                                     ...                                       \n",
       "5                                     ...                                       \n",
       "6                                     ...                                       \n",
       "8                                     ...                                       \n",
       "10                                    ...                                       \n",
       "\n",
       "   What currency are you currently paid in?  \\\n",
       "4                                     Naira   \n",
       "5                                     Naira   \n",
       "6                                     Naira   \n",
       "8                                     Naira   \n",
       "10                                    Naira   \n",
       "\n",
       "   Approximately how many hours a day do you currently work?  \\\n",
       "4                                                 8.0          \n",
       "5                                                10.0          \n",
       "6                                                 8.0          \n",
       "8                                                 9.0          \n",
       "10                                                9.0          \n",
       "\n",
       "   As far as you are aware, what was most important to your current employer about your qualification?  \\\n",
       "4   IT/SIWES/Internship experience (gained as part...                                                    \n",
       "5                                            Capacity                                                    \n",
       "6                                          Don't know                                                    \n",
       "8                            The subject(s) I studied                                                    \n",
       "10                         No one thing was important                                                    \n",
       "\n",
       "               How do you find out about your job(s)?  \\\n",
       "4     Personal contacts, including family and friends   \n",
       "5          Social media/professional networking sites   \n",
       "6   University/polytechnic (e.g. Careers Service, ...   \n",
       "8     Personal contacts, including family and friends   \n",
       "10    Personal contacts, including family and friends   \n",
       "\n",
       "   Thinking about your current employment, did you work for your employer before or during your  higher education study?  \\\n",
       "4                                                  No                                                                      \n",
       "5                                                  No                                                                      \n",
       "6               Yes: during my higher education study                                                                      \n",
       "8                                                  No                                                                      \n",
       "10                                                 No                                                                      \n",
       "\n",
       "   Which form of transport do you use the most?  \\\n",
       "4                           Commercial Vehicles   \n",
       "5                                           Car   \n",
       "6                           Commercial Vehicles   \n",
       "8                     Keke Marwa/Napep/Tricycle   \n",
       "10                          Commercial Vehicles   \n",
       "\n",
       "   Were you able to rent an apartment or buy a car from the salary you got from your first job?  \\\n",
       "4                                                  No                                             \n",
       "5                             No: From my current job                                             \n",
       "6                             No: From my current job                                             \n",
       "8                                                  No                                             \n",
       "10                                                 No                                             \n",
       "\n",
       "   My course of study prepared me well for employment  \\\n",
       "4                                               Agree   \n",
       "5                                               Agree   \n",
       "6                                   Strongly Disagree   \n",
       "8                                               Agree   \n",
       "10                                  Strongly Disagree   \n",
       "\n",
       "   My course of study prepared me well for further studies  \\\n",
       "4                                               Agree        \n",
       "5                                               Agree        \n",
       "6                                   Strongly Disagree        \n",
       "8                                               Agree        \n",
       "10                                  Strongly Disagree        \n",
       "\n",
       "   Which of these skills/knowledge did your higher education prepare you for?  \n",
       "4                            Critical thinking skills                          \n",
       "5   Ability to work with others, Knowledge of the ...                          \n",
       "6   Critical thinking skills, Ability to work with...                          \n",
       "8                         Ability to work with others                          \n",
       "10  Critical thinking skills, Written communicatio...                          \n",
       "\n",
       "[5 rows x 36 columns]"
      ]
     },
     "execution_count": 49,
     "metadata": {},
     "output_type": "execute_result"
    }
   ],
   "source": [
    "graduates_data.head()"
   ]
  },
  {
   "cell_type": "markdown",
   "metadata": {},
   "source": [
    "### Approximately how many hours a day do you currently work? (by What is your gender?)"
   ]
  },
  {
   "cell_type": "code",
   "execution_count": 50,
   "metadata": {},
   "outputs": [
    {
     "data": {
      "text/plain": [
       "What is your gender\n",
       "Female    8.960884\n",
       "Male      9.192668\n",
       "Name: Approximately how many hours a day do you currently work?, dtype: float64"
      ]
     },
     "execution_count": 50,
     "metadata": {},
     "output_type": "execute_result"
    }
   ],
   "source": [
    "graduates_data.groupby([\"What is your gender\"])[graduates_data.columns[27]].mean()"
   ]
  },
  {
   "cell_type": "markdown",
   "metadata": {},
   "source": [
    "### Approximately how many hours a day do you currently work? (by What best describes your current status?)"
   ]
  },
  {
   "cell_type": "code",
   "execution_count": 51,
   "metadata": {},
   "outputs": [
    {
     "data": {
      "text/plain": [
       "What best describes your current status?\n",
       "Doing something else (e.g. looking after home or family)                                       9.187500\n",
       "Due to start a job in the next month/developing a professional portfolio/creative practice     8.864865\n",
       "Engaged in full-time further study, training or research                                       8.815789\n",
       "Engaged in part-time further study, training or research                                      10.285714\n",
       "Self-employed/freelance/entrepreneur                                                           8.953642\n",
       "Taking time out to prepare for further studies, GMAT, professional exams                      10.095238\n",
       "Unemployed                                                                                     8.860656\n",
       "Voluntary or other unpaid work or on an internship                                             9.225000\n",
       "Working full time (paid employment)                                                            9.279089\n",
       "Youth Corper (NYSC)                                                                            8.500000\n",
       "Name: Approximately how many hours a day do you currently work?, dtype: float64"
      ]
     },
     "execution_count": 51,
     "metadata": {},
     "output_type": "execute_result"
    }
   ],
   "source": [
    "graduates_data.groupby([\"What best describes your current status?\"])[graduates_data.columns[27]].mean()"
   ]
  },
  {
   "cell_type": "markdown",
   "metadata": {},
   "source": [
    "### As far as you are aware, what was most important to your current employer about your qualification?\n"
   ]
  },
  {
   "cell_type": "code",
   "execution_count": 52,
   "metadata": {},
   "outputs": [
    {
     "data": {
      "text/plain": [
       "'As far as you are aware, what was most important to your current employer about your qualification?'"
      ]
     },
     "execution_count": 52,
     "metadata": {},
     "output_type": "execute_result"
    }
   ],
   "source": [
    "graduates_data.columns[28]"
   ]
  },
  {
   "cell_type": "code",
   "execution_count": 53,
   "metadata": {},
   "outputs": [
    {
     "data": {
      "text/plain": [
       "The level of study                                                                                             295\n",
       "The subject(s) I studied                                                                                       247\n",
       "IT/SIWES/Internship experience (gained as part of my course)                                                   201\n",
       "No one thing was important                                                                                     169\n",
       "Don't know                                                                                                     138\n",
       "Experience                                                                                                       5\n",
       "Skills                                                                                                           2\n",
       "Skill set                                                                                                        2\n",
       "Ability to learn on the job                                                                                      2\n",
       "My soft skills                                                                                                   2\n",
       "Experience                                                                                                       2\n",
       "The subject, level and institution of study.                                                                     2\n",
       "Previous work experience                                                                                         2\n",
       "Honesty                                                                                                          1\n",
       "The subject i studied, other skills and other additional certification i had                                     1\n",
       "Additional ICT Certification                                                                                     1\n",
       "My persinal development                                                                                          1\n",
       "My attitude and experience                                                                                       1\n",
       "Skills for marketing and sales                                                                                   1\n",
       "Technicality and ability to re-learn                                                                             1\n",
       "Ability to use a computer                                                                                        1\n",
       "My enthusiasm and willingness to learn                                                                           1\n",
       "General experience obtained over time  and the willingness to work                                               1\n",
       "Experience/Gained knowledge                                                                                      1\n",
       "Expertise and Social Skills                                                                                      1\n",
       "My interest level                                                                                                1\n",
       "My ability to learn quick and be resourceful                                                                     1\n",
       "Ability to get the job done                                                                                      1\n",
       "Experience I had in front-end development                                                                        1\n",
       "Past heritage with the same organisation                                                                         1\n",
       "                                                                                                              ... \n",
       "My interest in the field                                                                                         1\n",
       "My ability to create content                                                                                     1\n",
       "knowing your onions(and latest in the proffession)                                                               1\n",
       "That i had some professional qualifications and was still furthering in a course closely related to the job      1\n",
       "Skills and ability                                                                                               1\n",
       "Performance                                                                                                      1\n",
       "My job experience                                                                                                1\n",
       "Age and knowledge                                                                                                1\n",
       "My Portfolio                                                                                                     1\n",
       "My passion towards working                                                                                       1\n",
       "Professional qualifications (ACCA, ICAN)                                                                         1\n",
       "What skills do you have?                                                                                         1\n",
       "CGPA                                                                                                             1\n",
       "Experience and Skills                                                                                            1\n",
       "Other qualifications gotten aside my B.Sc.                                                                       1\n",
       "Work Experience                                                                                                  1\n",
       "Practical know-how                                                                                               1\n",
       "The grade I finished with in the university                                                                      1\n",
       "If I could deliver results on the job.                                                                           1\n",
       "Foriegn language                                                                                                 1\n",
       "My core competencies as related to tge running of a pharmacy                                                     1\n",
       "My ability to learn on the job                                                                                   1\n",
       "Work Ethics                                                                                                      1\n",
       "Skill and Experience                                                                                             1\n",
       "Inteligence, confidence, drive                                                                                   1\n",
       "Capacity                                                                                                         1\n",
       "Experience in the field                                                                                          1\n",
       "what I know in addition to my qualifications                                                                     1\n",
       "My experience from last job                                                                                      1\n",
       "My experience in related roles in my previous job                                                                1\n",
       "Name: As far as you are aware, what was most important to your current employer about your qualification?, Length: 173, dtype: int64"
      ]
     },
     "execution_count": 53,
     "metadata": {},
     "output_type": "execute_result"
    }
   ],
   "source": [
    "graduates_data[graduates_data.columns[28]].value_counts()"
   ]
  },
  {
   "cell_type": "markdown",
   "metadata": {},
   "source": [
    "### How do you find out about your job(s)?\n"
   ]
  },
  {
   "cell_type": "code",
   "execution_count": 54,
   "metadata": {},
   "outputs": [
    {
     "data": {
      "text/plain": [
       "'How do you find out about your job(s)?'"
      ]
     },
     "execution_count": 54,
     "metadata": {},
     "output_type": "execute_result"
    }
   ],
   "source": [
    "graduates_data.columns[29]"
   ]
  },
  {
   "cell_type": "code",
   "execution_count": 55,
   "metadata": {},
   "outputs": [
    {
     "data": {
      "text/plain": [
       "Personal contacts, including family and friends                     500\n",
       "Recruitment agency/Online job site                                  255\n",
       "Social media/professional networking sites                          251\n",
       "Media (e.g. newspaper/magazine advertisement)                        93\n",
       "Internship                                                           53\n",
       "Employer's website                                                   43\n",
       "University/polytechnic (e.g. Careers Service, lecturer, website)     34\n",
       "Name: How do you find out about your job(s)?, dtype: int64"
      ]
     },
     "execution_count": 55,
     "metadata": {},
     "output_type": "execute_result"
    }
   ],
   "source": [
    "graduates_data[graduates_data.columns[29]].value_counts()"
   ]
  },
  {
   "cell_type": "markdown",
   "metadata": {},
   "source": [
    "### Thinking about your current employment, did you work for your employer before or during your  higher education study?\n"
   ]
  },
  {
   "cell_type": "code",
   "execution_count": 56,
   "metadata": {},
   "outputs": [
    {
     "data": {
      "text/plain": [
       "'Thinking about your current employment, did you work for your employer before or during your  higher education study?'"
      ]
     },
     "execution_count": 56,
     "metadata": {},
     "output_type": "execute_result"
    }
   ],
   "source": [
    "graduates_data.columns[30]"
   ]
  },
  {
   "cell_type": "code",
   "execution_count": 57,
   "metadata": {},
   "outputs": [
    {
     "data": {
      "text/plain": [
       "No                                                  1085\n",
       "Yes: during my higher education study                 78\n",
       "Yes: before and during my higher education study      38\n",
       "Yes: before my higher education                       28\n",
       "Name: Thinking about your current employment, did you work for your employer before or during your  higher education study?, dtype: int64"
      ]
     },
     "execution_count": 57,
     "metadata": {},
     "output_type": "execute_result"
    }
   ],
   "source": [
    "graduates_data[graduates_data.columns[30]].value_counts()"
   ]
  },
  {
   "cell_type": "markdown",
   "metadata": {},
   "source": [
    "### Which form of transport do you use the most?\n"
   ]
  },
  {
   "cell_type": "code",
   "execution_count": 58,
   "metadata": {},
   "outputs": [
    {
     "data": {
      "text/plain": [
       "'Which form of transport do you use the most?'"
      ]
     },
     "execution_count": 58,
     "metadata": {},
     "output_type": "execute_result"
    }
   ],
   "source": [
    "graduates_data.columns[31]"
   ]
  },
  {
   "cell_type": "code",
   "execution_count": 59,
   "metadata": {},
   "outputs": [
    {
     "data": {
      "text/plain": [
       "Commercial Vehicles          733\n",
       "Car                          168\n",
       "BRT                           87\n",
       "Keke Marwa/Napep/Tricycle     87\n",
       "Motorcycle                    67\n",
       "Walking                       48\n",
       "Uber/Taxify/Taxi services     35\n",
       "Bicycle                        4\n",
       "Name: Which form of transport do you use the most?, dtype: int64"
      ]
     },
     "execution_count": 59,
     "metadata": {},
     "output_type": "execute_result"
    }
   ],
   "source": [
    "graduates_data[graduates_data.columns[31]].value_counts()"
   ]
  },
  {
   "cell_type": "markdown",
   "metadata": {},
   "source": [
    "### Were you able to rent an apartment or buy a car from the salary you got from your first job?\n"
   ]
  },
  {
   "cell_type": "code",
   "execution_count": 60,
   "metadata": {},
   "outputs": [
    {
     "data": {
      "text/plain": [
       "'Were you able to rent an apartment or buy a car from the salary you got from your first job?'"
      ]
     },
     "execution_count": 60,
     "metadata": {},
     "output_type": "execute_result"
    }
   ],
   "source": [
    "graduates_data.columns[32]"
   ]
  },
  {
   "cell_type": "code",
   "execution_count": 61,
   "metadata": {},
   "outputs": [
    {
     "data": {
      "text/plain": [
       "No                         936\n",
       "No: From my current job    202\n",
       "Yes: From my first job      91\n",
       "Name: Were you able to rent an apartment or buy a car from the salary you got from your first job?, dtype: int64"
      ]
     },
     "execution_count": 61,
     "metadata": {},
     "output_type": "execute_result"
    }
   ],
   "source": [
    "graduates_data[graduates_data.columns[32]].value_counts()"
   ]
  },
  {
   "cell_type": "markdown",
   "metadata": {},
   "source": [
    "### My course of study prepared me well for employment\n"
   ]
  },
  {
   "cell_type": "code",
   "execution_count": 62,
   "metadata": {},
   "outputs": [
    {
     "data": {
      "text/plain": [
       "'My course of study prepared me well for employment'"
      ]
     },
     "execution_count": 62,
     "metadata": {},
     "output_type": "execute_result"
    }
   ],
   "source": [
    "graduates_data.columns[33]"
   ]
  },
  {
   "cell_type": "code",
   "execution_count": 63,
   "metadata": {},
   "outputs": [
    {
     "data": {
      "text/plain": [
       "Agree                582\n",
       "Strongly Agree       277\n",
       "Disagree             212\n",
       "Strongly Disagree    158\n",
       "Name: My course of study prepared me well for employment, dtype: int64"
      ]
     },
     "execution_count": 63,
     "metadata": {},
     "output_type": "execute_result"
    }
   ],
   "source": [
    "graduates_data[graduates_data.columns[33]].value_counts()"
   ]
  },
  {
   "cell_type": "markdown",
   "metadata": {},
   "source": [
    "### My course of study prepared me well for further studies"
   ]
  },
  {
   "cell_type": "code",
   "execution_count": 64,
   "metadata": {},
   "outputs": [
    {
     "data": {
      "text/plain": [
       "'My course of study prepared me well for further studies'"
      ]
     },
     "execution_count": 64,
     "metadata": {},
     "output_type": "execute_result"
    }
   ],
   "source": [
    "graduates_data.columns[34]"
   ]
  },
  {
   "cell_type": "code",
   "execution_count": 65,
   "metadata": {},
   "outputs": [
    {
     "data": {
      "text/plain": [
       "Agree                595\n",
       "Strongly Agree       470\n",
       "Disagree             104\n",
       "Strongly Disagree     60\n",
       "Name: My course of study prepared me well for further studies, dtype: int64"
      ]
     },
     "execution_count": 65,
     "metadata": {},
     "output_type": "execute_result"
    }
   ],
   "source": [
    "graduates_data[graduates_data.columns[34]].value_counts()"
   ]
  },
  {
   "cell_type": "markdown",
   "metadata": {},
   "source": [
    "### Which of these skills/knowledge did your higher education prepare you for?\n"
   ]
  },
  {
   "cell_type": "code",
   "execution_count": 66,
   "metadata": {},
   "outputs": [
    {
     "data": {
      "text/plain": [
       "'Which of these skills/knowledge did your higher education prepare you for?'"
      ]
     },
     "execution_count": 66,
     "metadata": {},
     "output_type": "execute_result"
    }
   ],
   "source": [
    "graduates_data.columns[35]"
   ]
  },
  {
   "cell_type": "code",
   "execution_count": 67,
   "metadata": {},
   "outputs": [
    {
     "data": {
      "text/plain": [
       "Critical thinking skills, Ability to solve complex problems, Ability to work with others, Written communication skills, Spoken communication skills, Knowledge of the skill(s) you are studying                       219\n",
       "None of the above                                                                                                                                                                                                      90\n",
       "Critical thinking skills                                                                                                                                                                                               89\n",
       "Knowledge of the skill(s) you are studying                                                                                                                                                                             83\n",
       "Ability to solve complex problems                                                                                                                                                                                      82\n",
       "Ability to work with others                                                                                                                                                                                            79\n",
       "Critical thinking skills, Ability to solve complex problems, Ability to work with others, Written communication skills, Spoken communication skills                                                                    74\n",
       "Critical thinking skills, Ability to work with others, Written communication skills, Spoken communication skills, Knowledge of the skill(s) you are studying                                                           28\n",
       "Written communication skills                                                                                                                                                                                           28\n",
       "Critical thinking skills, Ability to solve complex problems, Ability to work with others, Knowledge of the skill(s) you are studying                                                                                   27\n",
       "Critical thinking skills, Ability to solve complex problems, Knowledge of the skill(s) you are studying                                                                                                                27\n",
       "Spoken communication skills                                                                                                                                                                                            24\n",
       "Critical thinking skills, Ability to work with others, Written communication skills, Spoken communication skills                                                                                                       24\n",
       "Critical thinking skills, Ability to solve complex problems                                                                                                                                                            23\n",
       "Critical thinking skills, Ability to solve complex problems, Ability to work with others                                                                                                                               20\n",
       "Ability to work with others, Written communication skills, Spoken communication skills                                                                                                                                 20\n",
       "Ability to work with others, Written communication skills, Spoken communication skills, Knowledge of the skill(s) you are studying                                                                                     18\n",
       "Critical thinking skills, Ability to solve complex problems, Ability to work with others, Written communication skills, Knowledge of the skill(s) you are studying                                                     15\n",
       "Critical thinking skills, Ability to solve complex problems, Ability to work with others, Written communication skills                                                                                                 15\n",
       "Critical thinking skills, Written communication skills, Spoken communication skills                                                                                                                                    15\n",
       "Critical thinking skills, Ability to solve complex problems, Ability to work with others, Spoken communication skills, Knowledge of the skill(s) you are studying                                                      13\n",
       "Critical thinking skills, Ability to solve complex problems, Written communication skills, Spoken communication skills                                                                                                 13\n",
       "Critical thinking skills, Ability to solve complex problems, Ability to work with others, Spoken communication skills                                                                                                  12\n",
       "Critical thinking skills, Ability to work with others, Spoken communication skills                                                                                                                                     12\n",
       "Critical thinking skills, Ability to work with others                                                                                                                                                                  11\n",
       "Written communication skills, Spoken communication skills                                                                                                                                                              10\n",
       "Ability to work with others, Written communication skills                                                                                                                                                              10\n",
       "Critical thinking skills, Ability to work with others, Written communication skills, Knowledge of the skill(s) you are studying                                                                                         9\n",
       "Critical thinking skills, Ability to solve complex problems, Written communication skills, Spoken communication skills, Knowledge of the skill(s) you are studying                                                      9\n",
       "Ability to work with others, Spoken communication skills                                                                                                                                                                8\n",
       "                                                                                                                                                                                                                     ... \n",
       "Critical thinking skills, Knowledge of the skill(s) you are studying                                                                                                                                                    6\n",
       "Ability to work with others, Spoken communication skills, Knowledge of the skill(s) you are studying                                                                                                                    6\n",
       "Written communication skills, Spoken communication skills, Knowledge of the skill(s) you are studying                                                                                                                   5\n",
       "Ability to solve complex problems, Ability to work with others, Written communication skills                                                                                                                            5\n",
       "Critical thinking skills, Written communication skills, Knowledge of the skill(s) you are studying                                                                                                                      5\n",
       "Ability to solve complex problems, Ability to work with others, Knowledge of the skill(s) you are studying                                                                                                              5\n",
       "Ability to work with others, Written communication skills, Knowledge of the skill(s) you are studying                                                                                                                   5\n",
       "Written communication skills, Knowledge of the skill(s) you are studying                                                                                                                                                4\n",
       "Critical thinking skills, Ability to solve complex problems, Written communication skills                                                                                                                               4\n",
       "Ability to solve complex problems, Ability to work with others                                                                                                                                                          4\n",
       "Critical thinking skills, Ability to work with others, Written communication skills                                                                                                                                     4\n",
       "Critical thinking skills, Ability to solve complex problems, Spoken communication skills                                                                                                                                4\n",
       "Critical thinking skills, Written communication skills                                                                                                                                                                  3\n",
       "Critical thinking skills, Spoken communication skills, Knowledge of the skill(s) you are studying                                                                                                                       2\n",
       "Ability to solve complex problems, Written communication skills, Spoken communication skills                                                                                                                            2\n",
       "Ability to solve complex problems, Ability to work with others, Spoken communication skills                                                                                                                             2\n",
       "Ability to solve complex problems, Ability to work with others, Written communication skills, Knowledge of the skill(s) you are studying                                                                                2\n",
       "Critical thinking skills, Ability to work with others, Knowledge of the skill(s) you are studying                                                                                                                       2\n",
       "Critical thinking skills, Ability to solve complex problems, Spoken communication skills, Knowledge of the skill(s) you are studying                                                                                    2\n",
       "Ability to solve complex problems, Knowledge of the skill(s) you are studying                                                                                                                                           2\n",
       "Written communication skills, None of the above                                                                                                                                                                         2\n",
       "Critical thinking skills, Ability to work with others, Spoken communication skills, Knowledge of the skill(s) you are studying                                                                                          2\n",
       "Ability to solve complex problems, Spoken communication skills, Knowledge of the skill(s) you are studying                                                                                                              1\n",
       "Ability to solve complex problems, Written communication skills, Spoken communication skills, Knowledge of the skill(s) you are studying                                                                                1\n",
       "Spoken communication skills, Knowledge of the skill(s) you are studying                                                                                                                                                 1\n",
       "Critical thinking skills, Spoken communication skills                                                                                                                                                                   1\n",
       "Critical thinking skills, Ability to solve complex problems, Ability to work with others, Written communication skills, Spoken communication skills, Knowledge of the skill(s) you are studying, None of the above      1\n",
       "Ability to solve complex problems, Written communication skills, Knowledge of the skill(s) you are studying                                                                                                             1\n",
       "Critical thinking skills, Ability to solve complex problems, Written communication skills, Spoken communication skills, None of the above                                                                               1\n",
       "Critical thinking skills, Ability to solve complex problems, Ability to work with others, Knowledge of the skill(s) you are studying, None of the above                                                                 1\n",
       "Name: Which of these skills/knowledge did your higher education prepare you for?, Length: 65, dtype: int64"
      ]
     },
     "execution_count": 67,
     "metadata": {},
     "output_type": "execute_result"
    }
   ],
   "source": [
    "graduates_data[graduates_data.columns[35]].value_counts()"
   ]
  },
  {
   "cell_type": "markdown",
   "metadata": {},
   "source": []
  }
 ],
 "metadata": {
  "kernelspec": {
   "display_name": "Python 3",
   "language": "python",
   "name": "python3"
  },
  "language_info": {
   "codemirror_mode": {
    "name": "ipython",
    "version": 3
   },
   "file_extension": ".py",
   "mimetype": "text/x-python",
   "name": "python",
   "nbconvert_exporter": "python",
   "pygments_lexer": "ipython3",
   "version": "3.6.5"
  }
 },
 "nbformat": 4,
 "nbformat_minor": 2
}
