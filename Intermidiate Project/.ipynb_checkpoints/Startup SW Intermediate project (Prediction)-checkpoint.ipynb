{
 "cells": [
  {
   "cell_type": "code",
   "execution_count": 1,
   "metadata": {},
   "outputs": [],
   "source": [
    "from pprint import pprint\n",
    "import pandas as pd\n",
    "import numpy as np\n",
    "from sklearn import preprocessing\n",
    "import matplotlib.pyplot as plt \n",
    "plt.rc(\"font\", size=14)\n",
    "from sklearn.linear_model import LogisticRegression\n",
    "from sklearn.model_selection import train_test_split\n",
    "import seaborn as sns\n",
    "sns.set(style=\"white\")\n",
    "sns.set(style=\"whitegrid\", color_codes=True)"
   ]
  },
  {
   "cell_type": "code",
   "execution_count": 2,
   "metadata": {},
   "outputs": [],
   "source": [
    "def make_plot(the_df, field, title, figsize, rotation=None, fontsize=None):\n",
    "    sns.set_style('whitegrid')\n",
    "    total = len(the_df[field])*1.\n",
    "    plt.figure(figsize=figsize)\n",
    "    ax = sns.countplot(x = field, data = the_df, palette = 'hls' )\n",
    "    plt.title(title)\n",
    "    #plt.ylabel('Frequency [%]')\n",
    "    plt.ylabel('Frequency')\n",
    "    \n",
    "    if len(ax.patches)< 8:\n",
    "        # Format 250 (60%)\n",
    "        for p in ax.patches:\n",
    "            ax.annotate('{} ({:.1f}%)'.format(p.get_height(), 100*p.get_height()/total), (p.get_x()+0.1, p.get_height()+5))\n",
    "    else:\n",
    "        # Format 60%\n",
    "        for p in ax.patches:\n",
    "\n",
    "            ax.annotate('{:.1f}%'.format(100*p.get_height()/total), (p.get_x()+0.1, p.get_height()+5))\n",
    "        \n",
    "    #put 11 ticks (therefore 10 steps), from 0 to the total number of rows in the dataframe\n",
    "    #ax.yaxis.set_ticks(np.linspace(0, total, 11))\n",
    "\n",
    "    #adjust the ticklabel to the desired format, without changing the position of the ticks\n",
    "    #_ = ax.set_yticklabels(map('{:.1f}%'.format, 100*ax.yaxis.get_majorticklocs()/total))\n",
    "    \n",
    "    ax.set_xticklabels(ax.get_xticklabels(), rotation=rotation, ha=\"right\", fontsize=fontsize)\n",
    "    plt.tight_layout()\n",
    "    plt.show()\n"
   ]
  },
  {
   "cell_type": "code",
   "execution_count": null,
   "metadata": {},
   "outputs": [],
   "source": [
    "xlsx = pd.ExcelFile('Nigerian Graduates Destination Survey (2013 -2017) (Responses) - nigerian graduates survey 2018.xlsx')"
   ]
  },
  {
   "cell_type": "code",
   "execution_count": null,
   "metadata": {},
   "outputs": [],
   "source": [
    "graduates_data = pd.read_excel(xlsx, 'Nigerian Graduates Destination ')"
   ]
  },
  {
   "cell_type": "code",
   "execution_count": null,
   "metadata": {},
   "outputs": [],
   "source": [
    "# Original shape  (rows and columns)\n",
    "print(graduates_data.shape)"
   ]
  },
  {
   "cell_type": "code",
   "execution_count": null,
   "metadata": {},
   "outputs": [],
   "source": [
    "# Remove rows with missing\n",
    "graduates_data = graduates_data.dropna()\n",
    "\n",
    "# Show data - head\n",
    "graduates_data.head()"
   ]
  },
  {
   "cell_type": "code",
   "execution_count": null,
   "metadata": {},
   "outputs": [],
   "source": [
    "# Current shape (rows and columns)\n",
    "\n",
    "print(graduates_data.shape)\n"
   ]
  },
  {
   "cell_type": "code",
   "execution_count": null,
   "metadata": {},
   "outputs": [],
   "source": [
    "gainfully_employed = graduates_data[(graduates_data['What best describes your current status?']=='Working full time (paid employment)') | (graduates_data['What best describes your current status?']=='Youth Corper (NYSC)') | (graduates_data['What best describes your current status?']=='Self-employed/freelance/entrepreneur')]"
   ]
  },
  {
   "cell_type": "code",
   "execution_count": null,
   "metadata": {},
   "outputs": [],
   "source": [
    "def label_race(row):\n",
    "    if row['What best describes your current status?']=='Working full time (paid employment)':\n",
    "        return \"Yes\"\n",
    "    elif row['What best describes your current status?']=='Youth Corper (NYSC)':\n",
    "        return \"Yes\"\n",
    "    elif row['What best describes your current status?']=='Self-employed/freelance/entrepreneur':\n",
    "        return \"Yes\"\n",
    "    else:\n",
    "        return \"No\"\n",
    "\n",
    "graduates_data[\"Are you gainfully employed?\"] = graduates_data.apply (lambda row: label_race (row),axis=1)"
   ]
  },
  {
   "cell_type": "code",
   "execution_count": null,
   "metadata": {},
   "outputs": [],
   "source": [
    "graduates_data[['What best describes your current status?', \"Are you gainfully employed?\"]].head()"
   ]
  },
  {
   "cell_type": "code",
   "execution_count": null,
   "metadata": {},
   "outputs": [],
   "source": [
    "print(\"Categories of people gainfully employed are \\nWorking full time (paid employment) \\nYouth Corper (NYSC) \\nSelf-employed/freelance/entrepreneur\")\n",
    "make_plot(the_df = graduates_data, field= \"Are you gainfully employed?\", title=\"Are you gainfully employed?\", figsize=(8,4), rotation=0, fontsize=11)\n"
   ]
  },
  {
   "cell_type": "code",
   "execution_count": null,
   "metadata": {},
   "outputs": [],
   "source": [
    "gainfully_employed['Can the graduate get his desired job?'] = np.where((gainfully_employed['What sector/industry is your company in? (E.g. Banking, Agriculture, Telecommunication)'] == gainfully_employed['Which sector is your most preferred sector to work in?']), \"Yes\", \"No\")\n",
    "\n",
    "#Can_the_graduate_get_his_desired_job = gainfully_employed[['Sectors', 'Can the graduate get his desired job?']]\n",
    "\n",
    "make_plot(the_df = gainfully_employed, field='Can the graduate get his desired job?', title=\"Can the graduate get his desired job?\", figsize=(8, 4), rotation=0, fontsize=11)\n",
    "\n"
   ]
  },
  {
   "cell_type": "code",
   "execution_count": null,
   "metadata": {},
   "outputs": [],
   "source": [
    "make_plot(the_df = gainfully_employed, field='What was the most significant reason for deciding to take your first job?', title='What was the most significant reason for deciding to take your first job?', figsize=(12, 6), rotation=20)\n"
   ]
  },
  {
   "cell_type": "code",
   "execution_count": null,
   "metadata": {},
   "outputs": [],
   "source": [
    "def simplify_function(the_df, field, frq):\n",
    "    \n",
    "    indx = (the_df.groupby(field)[field].count()>frq).index\n",
    "    bool_value =the_df.groupby(field)[field].count()\n",
    "    freq = the_df.groupby(field)[field].count().values.tolist()\n",
    "\n",
    "    indx = list(np.where(bool_value<frq, False, indx))\n",
    "    freq = np.where(bool_value<frq, False, freq)\n",
    "\n",
    "    my = (list(indx))\n",
    "    freqq = list(freq)\n",
    "    #print(len(freq))\n",
    "\n",
    "    courses = [same_course for same_course in list(my) if same_course!= False ]\n",
    "    frequencies = [value for value in freqq if value != False]\n",
    "\n",
    "    courses_list = [courses[i] for i, number in enumerate(list(frequencies)) for list(courses)[i] in range(number)]\n",
    "    #print(len(courses_list))\n",
    "    #print(sum(freq))\n",
    "    #len(gainfully_employed[['Title of course studied']])\n",
    "    #alone = np.where(make_titanic[['alone']]==True, 0, 1)\n",
    "\n",
    "    #sns.countplot(x='Title of course studied', data = gainfully_employed['Title of course studied'].count()>9], palette='hls')\n",
    "    #plt.show()\n",
    "\n",
    "\n",
    "    d = {field: courses_list}\n",
    "    mydf = pd.DataFrame(data=d)\n",
    "\n",
    "    return mydf\n"
   ]
  },
  {
   "cell_type": "code",
   "execution_count": null,
   "metadata": {},
   "outputs": [],
   "source": [
    "mydf = simplify_function(the_df = gainfully_employed, field='As far as you are aware, what was most important to your current employer about your qualification?', frq=2)\n",
    "make_plot(the_df = mydf, field='As far as you are aware, what was most important to your current employer about your qualification?', title='As far as you are aware, what was most important to your current employer about your qualification?', figsize=(14, 8), rotation=10)\n"
   ]
  },
  {
   "cell_type": "code",
   "execution_count": null,
   "metadata": {},
   "outputs": [],
   "source": [
    "def label_race1(row):\n",
    "    items = list(set(mydf.iloc[:, 0].values.tolist()))\n",
    "    if row['As far as you are aware, what was most important to your current employer about your qualification?']==items[0]:\n",
    "        return items[0]\n",
    "    elif row['As far as you are aware, what was most important to your current employer about your qualification?']==items[1]:\n",
    "        return items[1]\n",
    "    elif row['As far as you are aware, what was most important to your current employer about your qualification?']==items[2]:\n",
    "        return items[2]\n",
    "    elif row['As far as you are aware, what was most important to your current employer about your qualification?']==items[3]:\n",
    "        return items[3]\n",
    "    elif row['As far as you are aware, what was most important to your current employer about your qualification?']==items[4]:\n",
    "        return items[4]\n",
    "    elif row['As far as you are aware, what was most important to your current employer about your qualification?']==items[5]:\n",
    "        return items[5]\n",
    "    elif row['As far as you are aware, what was most important to your current employer about your qualification?']==items[6]:\n",
    "        return items[6]\n",
    "    elif row['As far as you are aware, what was most important to your current employer about your qualification?']==items[7]:\n",
    "        return items[7]\n",
    "    elif row['As far as you are aware, what was most important to your current employer about your qualification?']==items[7]:\n",
    "        return items[8]\n",
    "    elif row['As far as you are aware, what was most important to your current employer about your qualification?']==items[7]:\n",
    "        return items[9]\n",
    "    elif row['As far as you are aware, what was most important to your current employer about your qualification?']==items[7]:\n",
    "        return items[10]\n",
    "    else:\n",
    "        return \"Others\"\n",
    "\n",
    "#graduates_data[\"Are you gainfully employed?\"] = graduates_data.apply (lambda row: label_race(row),axis=1)"
   ]
  },
  {
   "cell_type": "code",
   "execution_count": null,
   "metadata": {},
   "outputs": [],
   "source": [
    "def catch_under_frq(the_df, field, frq):\n",
    "    \n",
    "    indx = (the_df.groupby(field)[field].count()<frq).index\n",
    "    bool_value =the_df.groupby(field)[field].count()\n",
    "    freq = the_df.groupby(field)[field].count().values.tolist()\n",
    "\n",
    "    indx = list(np.where(bool_value>frq, False, indx))\n",
    "    freq = np.where(bool_value>frq, False, freq)\n",
    "\n",
    "    my = (list(indx))\n",
    "    freqq = list(freq)\n",
    "    #print(len(freq))\n",
    "\n",
    "    courses = [same_course for same_course in list(my) if same_course!= False ]\n",
    "    frequencies = [value for value in freqq if value != False]\n",
    "\n",
    "    courses_list = [courses[i] for i, number in enumerate(list(frequencies)) for list(courses)[i] in range(number)]\n",
    "    #print(len(courses_list))\n",
    "    #print(sum(freq))\n",
    "    #len(gainfully_employed[['Title of course studied']])\n",
    "    #alone = np.where(make_titanic[['alone']]==True, 0, 1)\n",
    "\n",
    "    #sns.countplot(x='Title of course studied', data = gainfully_employed['Title of course studied'].count()>9], palette='hls')\n",
    "    #plt.show()\n",
    "\n",
    "\n",
    "    d = {field: courses_list}\n",
    "    mydf = pd.DataFrame(data=d)\n",
    "\n",
    "    return mydf\n",
    "\n",
    "df_v = catch_under_frq(gainfully_employed, field='As far as you are aware, what was most important to your current employer about your qualification?', frq=3)\n",
    "\n",
    "formatt = lambda x: \"As far as you are aware, what was most important to your current employer about your qualification?\"+\"_\"+x \n",
    "\n",
    "new_df_v = df_v['As far as you are aware, what was most important to your current employer about your qualification?'].map(formatt)\n",
    "\n",
    "noise = list(set(new_df_v.values.tolist()))[:5]\n",
    "\n",
    "noise01 = list(set(new_df_v.values.tolist()))\n",
    "\n",
    "noise\n",
    "#new_df_v"
   ]
  },
  {
   "cell_type": "code",
   "execution_count": null,
   "metadata": {},
   "outputs": [],
   "source": [
    "make_plot(the_df = gainfully_employed, field='How do you find out about your job(s)?', title='How do you find out about your job(s)?', figsize=(12, 6), rotation=20)"
   ]
  },
  {
   "cell_type": "code",
   "execution_count": null,
   "metadata": {},
   "outputs": [],
   "source": [
    "make_plot(the_df = gainfully_employed, field='Thinking about your current employment, did you work for your employer before or during your  higher education study?', title='Thinking about your current employment, did you work for your employer before or during your  higher education study?', figsize=(12, 6), rotation=20)\n",
    "\n"
   ]
  },
  {
   "cell_type": "code",
   "execution_count": null,
   "metadata": {},
   "outputs": [],
   "source": [
    "make_plot(the_df = gainfully_employed, field='Which form of transport do you use the most?', title='Which form of transport do you use the most?', figsize=(12, 6), rotation=20)\n"
   ]
  },
  {
   "cell_type": "code",
   "execution_count": null,
   "metadata": {},
   "outputs": [],
   "source": [
    "make_plot(the_df = gainfully_employed, field='Were you able to rent an apartment or buy a car from the salary you got from your first job?', title='Were you able to rent an apartment or buy a car from the salary you got from your first job?', figsize=(12, 6), rotation=20)\n"
   ]
  },
  {
   "cell_type": "code",
   "execution_count": null,
   "metadata": {},
   "outputs": [],
   "source": [
    "make_plot(the_df = gainfully_employed, field='My course of study prepared me well for employment', title='My course of study prepared me well for employment', figsize=(8, 5), rotation=20)\n"
   ]
  },
  {
   "cell_type": "code",
   "execution_count": null,
   "metadata": {},
   "outputs": [],
   "source": [
    "mydf = simplify_function(the_df = gainfully_employed, field='Which of these skills/knowledge did your higher education prepare you for?', frq=20)\n",
    "\n",
    "\n",
    "make_plot(the_df = mydf, field='Which of these skills/knowledge did your higher education prepare you for?', title='Which of these skills/knowledge did your higher education prepare you for?', figsize=(15, 10), rotation=20)\n"
   ]
  },
  {
   "cell_type": "code",
   "execution_count": null,
   "metadata": {},
   "outputs": [],
   "source": [
    "df_v_02 = catch_under_frq(the_df =  gainfully_employed, field = 'Which of these skills/knowledge did your higher education prepare you for?', frq = 21)\n",
    "\n",
    "formatt = lambda x: \"Which of these skills/knowledge did your higher education prepare you for?\"+\"_\"+x \n",
    "\n",
    "new_df_v02 = df_v_02['Which of these skills/knowledge did your higher education prepare you for?'].map(formatt)\n",
    "\n",
    "noise_ = list(set(new_df_v02.values.tolist()))[:5]\n",
    "\n",
    "noise02 = list(set(new_df_v02.values.tolist()))\n",
    "\n",
    "noise_\n"
   ]
  },
  {
   "cell_type": "code",
   "execution_count": null,
   "metadata": {},
   "outputs": [],
   "source": [
    "data = gainfully_employed\n",
    "#\"Are you gainfully employed?\"\n"
   ]
  },
  {
   "cell_type": "code",
   "execution_count": null,
   "metadata": {},
   "outputs": [],
   "source": [
    "data.drop(data.columns[[0,1, 2,3, 4, 5, 6, 7, 8, 9, 10, 11, 12, 13, 14, 15, 17, 18, 19, 20, 21, 22, 23, 24, 25, 26, 27, 34]], axis=1, inplace=True)\n"
   ]
  },
  {
   "cell_type": "code",
   "execution_count": null,
   "metadata": {},
   "outputs": [],
   "source": [
    "data"
   ]
  },
  {
   "cell_type": "code",
   "execution_count": null,
   "metadata": {},
   "outputs": [],
   "source": [
    "data2 = pd.get_dummies(data, columns =data.columns.values.tolist())\n",
    "data2['Can the graduate get his desired job?'] = gainfully_employed['Can the graduate get his desired job?'].map({'Yes': 1, 'No': 0})\n",
    "cols = data2.columns.tolist()\n",
    "cols = cols[-1:] + cols[:-3]\n",
    "\n",
    "data2 = data2[cols]  #    OR    df = df.ix[:, cols]\n"
   ]
  },
  {
   "cell_type": "code",
   "execution_count": null,
   "metadata": {
    "scrolled": false
   },
   "outputs": [],
   "source": [
    "data2"
   ]
  },
  {
   "cell_type": "code",
   "execution_count": null,
   "metadata": {},
   "outputs": [],
   "source": [
    "\n",
    "data2 = data2.drop(noise01, axis=1)\n",
    "data2 = data2.drop(noise02, axis=1)\n",
    "sns.heatmap(data2.corr())\n",
    "plt.show()\n"
   ]
  },
  {
   "cell_type": "code",
   "execution_count": null,
   "metadata": {},
   "outputs": [],
   "source": [
    "X = data2.iloc[:,1:]\n",
    "y = data2.iloc[:,0]\n",
    "X_train, X_test, y_train, y_test = train_test_split(X, y, random_state=0)"
   ]
  },
  {
   "cell_type": "code",
   "execution_count": null,
   "metadata": {},
   "outputs": [],
   "source": [
    "X_train.shape"
   ]
  },
  {
   "cell_type": "code",
   "execution_count": null,
   "metadata": {},
   "outputs": [],
   "source": [
    "classifier = LogisticRegression(random_state=0)\n",
    "classifier.fit(X_train, y_train)"
   ]
  },
  {
   "cell_type": "code",
   "execution_count": null,
   "metadata": {},
   "outputs": [],
   "source": [
    "y_pred = classifier.predict(X_test)\n",
    "from sklearn.metrics import confusion_matrix\n",
    "confusion_matrix = confusion_matrix(y_test, y_pred)\n",
    "print(confusion_matrix)"
   ]
  },
  {
   "cell_type": "code",
   "execution_count": null,
   "metadata": {},
   "outputs": [],
   "source": [
    "print('Accuracy of logistic regression classifier on test set: {:.2f}'.format(classifier.score(X_test, y_test)))"
   ]
  },
  {
   "cell_type": "code",
   "execution_count": null,
   "metadata": {},
   "outputs": [],
   "source": [
    "from sklearn.metrics import classification_report\n",
    "print(classification_report(y_test, y_pred))"
   ]
  },
  {
   "cell_type": "code",
   "execution_count": null,
   "metadata": {},
   "outputs": [],
   "source": [
    "from sklearn.decomposition import PCA\n",
    "X = data2.iloc[:,1:]\n",
    "y = data2.iloc[:,0]\n",
    "pca = PCA(n_components=2).fit_transform(X)\n",
    "X_train, X_test, y_train, y_test = train_test_split(pca, y, random_state=0)\n",
    "\n",
    "plt.figure(dpi=120)\n",
    "plt.scatter(pca[y.values==0,0], pca[y.values==0,1], alpha=0.5, label='YES', s=2, color='navy')\n",
    "plt.scatter(pca[y.values==1,0], pca[y.values==1,1], alpha=0.5, label='NO', s=2, color='darkorange')\n",
    "plt.legend()\n",
    "plt.title('Nigeria Graduate Data Set\\nFirst Two Principal Components')\n",
    "plt.xlabel('PC1')\n",
    "plt.ylabel('PC2')\n",
    "plt.gca().set_aspect('equal')\n",
    "plt.show()"
   ]
  },
  {
   "cell_type": "code",
   "execution_count": null,
   "metadata": {},
   "outputs": [],
   "source": [
    "def plot_bank(X, y, fitted_model):\n",
    "    plt.figure(figsize=(9.8,5), dpi=100)\n",
    "    for i, plot_type in enumerate(['Decision Boundary', 'Decision Probabilities']):\n",
    "        plt.subplot(1,2,i+1)\n",
    "        mesh_step_size = 0.01  # step size in the mesh\n",
    "        x_min, x_max = X[:, 0].min() - .1, X[:, 0].max() + .1\n",
    "        y_min, y_max = X[:, 1].min() - .1, X[:, 1].max() + .1\n",
    "        xx, yy = np.meshgrid(np.arange(x_min, x_max, mesh_step_size), np.arange(y_min, y_max, mesh_step_size))\n",
    "        if i == 0:\n",
    "            Z = fitted_model.predict(np.c_[xx.ravel(), yy.ravel()])\n",
    "        else:\n",
    "            try:\n",
    "                Z = fitted_model.predict_proba(np.c_[xx.ravel(), yy.ravel()])[:,1]\n",
    "            except:\n",
    "                plt.text(0.4, 0.5, 'Probabilities Unavailable', horizontalalignment='center',\n",
    "                     verticalalignment='center', transform = plt.gca().transAxes, fontsize=12)\n",
    "                plt.axis('off')\n",
    "                break\n",
    "        Z = Z.reshape(xx.shape)\n",
    "        plt.scatter(X[y.values==0,0], X[y.values==0,1], alpha=0.8, label='YES', s=5, color='navy')\n",
    "        plt.scatter(X[y.values==1,0], X[y.values==1,1], alpha=0.8, label='NO', s=5, color='darkorange')\n",
    "        plt.imshow(Z, interpolation='nearest', cmap='RdYlBu_r', alpha=0.15, \n",
    "                   extent=(x_min, x_max, y_min, y_max), origin='lower')\n",
    "        plt.title(plot_type + '\\n' + \n",
    "                  str(fitted_model).split('(')[0]+ ' Test Accuracy: ' + str(np.round(fitted_model.score(X, y), 5)))\n",
    "        plt.gca().set_aspect('equal');\n",
    "    plt.tight_layout()\n",
    "    plt.legend()\n",
    "    plt.subplots_adjust(top=0.9, bottom=0.08, wspace=0.02)\n",
    "model = LogisticRegression()\n",
    "model.fit(X_train,y_train)\n",
    "plot_bank(X_test, y_test, model)\n",
    "plt.show()"
   ]
  },
  {
   "cell_type": "code",
   "execution_count": null,
   "metadata": {},
   "outputs": [],
   "source": []
  },
  {
   "cell_type": "code",
   "execution_count": null,
   "metadata": {},
   "outputs": [],
   "source": []
  }
 ],
 "metadata": {
  "kernelspec": {
   "display_name": "Python 3",
   "language": "python",
   "name": "python3"
  },
  "language_info": {
   "codemirror_mode": {
    "name": "ipython",
    "version": 3
   },
   "file_extension": ".py",
   "mimetype": "text/x-python",
   "name": "python",
   "nbconvert_exporter": "python",
   "pygments_lexer": "ipython3",
   "version": "3.6.5"
  }
 },
 "nbformat": 4,
 "nbformat_minor": 2
}
